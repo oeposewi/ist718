{
 "cells": [
  {
   "cell_type": "markdown",
   "metadata": {
    "deletable": false,
    "editable": false,
    "nbgrader": {
     "cell_type": "markdown",
     "checksum": "857b7cda56c5e673a98095880541e691",
     "grade": false,
     "grade_id": "cell-2cb82bd8511148cf",
     "locked": true,
     "schema_version": 3,
     "solution": false,
     "task": false
    }
   },
   "source": [
    "# IST 718: Big Data Analytics\n",
    "\n",
    "- Professor: Daniel Acuna <deacuna@syr.edu>\n",
    "\n",
    "## General instructions:\n",
    "\n",
    "- You are welcome to discuss the problems with your classmates but __you are not allowed to copy any part of your answers either from your classmates or from the internet__\n",
    "- You can put the homework files anywhere you want in your https://jupyterhub.ischool.syr.edu/ workspace but _do not change_ the file names. The TAs and the professor use these names to grade your homework.\n",
    "- Remove or comment out code that contains `raise NotImplementedError`. This is mainly to make the `assert` statement fail if nothing is submitted.\n",
    "- The tests shown in some cells (i.e., `assert` and `np.testing.` statements) are used to grade your answers. **However, the professor and TAs will use __additional__ test for your answer. Think about cases where your code should run even if it passess all the tests you see.**\n",
    "- Before downloading and submitting your work through Blackboard, remember to save and press `Validate` (or go to \n",
    "`Kernel`$\\rightarrow$`Restart and Run All`). \n",
    "- Good luck!"
   ]
  },
  {
   "cell_type": "markdown",
   "metadata": {
    "deletable": false,
    "editable": false,
    "nbgrader": {
     "cell_type": "markdown",
     "checksum": "21ac775d2f4564164f8655ae80463ec1",
     "grade": false,
     "grade_id": "cell-f4b92b43498a594e",
     "locked": true,
     "schema_version": 3,
     "solution": false,
     "task": false
    }
   },
   "source": [
    "# Part 1: MapReduce with Spark"
   ]
  },
  {
   "cell_type": "code",
   "execution_count": null,
   "metadata": {},
   "outputs": [],
   "source": [
    "# Run this code to create the Spark session\n",
    "import numpy as np\n",
    "from pyspark.sql import SparkSession\n",
    "spark = SparkSession.builder.appName('map-reduce').getOrCreate()\n",
    "sc = spark.sparkContext"
   ]
  },
  {
   "cell_type": "code",
   "execution_count": null,
   "metadata": {},
   "outputs": [],
   "source": [
    "# this RDD will be used throughout this part of the homework\n",
    "gpa_rdd = sc.parallelize([\n",
    " ['2020', 'Fall', 'IST687', 1, 'A', 4],\n",
    " ['2020', 'Fall', 'IST659', 3, 'A', 4],\n",
    " ['2020', 'Fall', 'IST615', 3, 'B+', 3.3],\n",
    " ['2020', 'Fall', 'SOC101', 3, 'A-', 3.7],\n",
    " ['2020', 'Fall', 'MAT221', 3, 'C', 2],\n",
    " ['2020', 'Fall', 'IST346', 3, 'A', 4],\n",
    " ['2021', 'Spring', 'IST681', 3, 'B+', 3.3],\n",
    " ['2021', 'Spring', 'MAT222', 3, 'A', 4],\n",
    " ['2021', 'Spring', 'IST719', 3, 'C+', 2.3],\n",
    " ['2021', 'Spring', 'MBC638', 3, 'B-', 2.7],\n",
    " ['2021', 'Fall', 'IST718', 3, 'A-', 3.7],\n",
    " ['2021', 'Fall', 'PSY520', 3, 'B+', 3.3],\n",
    " ['2021', 'Fall', 'IST700', 3, 'A', 4],\n",
    " ['2021', 'Fall', 'IST722', 3, 'B-', 2.7]])"
   ]
  },
  {
   "cell_type": "markdown",
   "metadata": {
    "deletable": false,
    "editable": false,
    "nbgrader": {
     "cell_type": "markdown",
     "checksum": "5bdcf0a861306b4e2e15032fb6eda54f",
     "grade": false,
     "grade_id": "cell-28ea9575c886dbfc",
     "locked": true,
     "schema_version": 3,
     "solution": false,
     "task": false
    }
   },
   "source": [
    "## Question 1: Cumulative GPA with MapReduce (15 pts)\n",
    "\n",
    "The cumulative GPA reported in any transcript is the average of the numerical score of a course weighted by the credits of such course. Construct a MapReduce job that takes the `gpa_rdd` RDD and returns the cumulative GPA *per season*. \n",
    "\n",
    "Each record in `gpa_rdd` contains:\n",
    "- The year\n",
    "- The season\n",
    "- The course code\n",
    "- The number of credits\n",
    "- The letter grade\n",
    "- The number grade\n",
    "\n",
    "**Hint:** In class, we discussed the MapReduce job for computing avereage. In this case, the key-value pairs will be similar but instead of counting the number of elements considered in the average so far, we need to count the credits. Clearly, the key needs to be year and semester."
   ]
  },
  {
   "cell_type": "code",
   "execution_count": null,
   "metadata": {
    "deletable": false,
    "nbgrader": {
     "cell_type": "code",
     "checksum": "7431019df7c2c12edb0d0b0c1912885b",
     "grade": false,
     "grade_id": "cell-d08b54f7490b84a6",
     "locked": false,
     "schema_version": 3,
     "solution": true,
     "task": false
    }
   },
   "outputs": [],
   "source": [
    "def map_weighted_gpa(record):   \n",
    "    # YOUR CODE HERE\n",
    "    raise NotImplementedError()\n",
    "\n",
    "def reduce_weighted_gpa(value1, value2):    \n",
    "    # YOUR CODE HERE\n",
    "    raise NotImplementedError()"
   ]
  },
  {
   "cell_type": "markdown",
   "metadata": {
    "deletable": false,
    "editable": false,
    "nbgrader": {
     "cell_type": "markdown",
     "checksum": "a3ea2fc698f8c0d6cfba2dcd215f8959",
     "grade": false,
     "grade_id": "cell-a5109691b84b4a24",
     "locked": true,
     "schema_version": 3,
     "solution": false,
     "task": false
    }
   },
   "source": [
    "## The map job should produce as key the year, season and value a tuple or list with the grade and credit.\n",
    "\n",
    "For example, the first element of the map of `gpa_rdd` should be\n",
    "\n",
    "```python\n",
    "gpa_rdd.\\\n",
    "    map(map_weighted_gpa).\\\n",
    "    first()\n",
    "```\n",
    "\n",
    "```python\n",
    "['2020Fall', [4, 1]]\n",
    "```"
   ]
  },
  {
   "cell_type": "code",
   "execution_count": null,
   "metadata": {},
   "outputs": [],
   "source": [
    "gpa_rdd.\\\n",
    "    map(map_weighted_gpa).\\\n",
    "    first()"
   ]
  },
  {
   "cell_type": "code",
   "execution_count": null,
   "metadata": {
    "deletable": false,
    "editable": false,
    "nbgrader": {
     "cell_type": "code",
     "checksum": "11322cb9f587377d9c677592c501221c",
     "grade": true,
     "grade_id": "cell-41d9726b27be0b2e",
     "locked": true,
     "points": 15,
     "schema_version": 3,
     "solution": false,
     "task": false
    }
   },
   "outputs": [],
   "source": [
    "# 15 pts\n",
    "##### first result\n",
    "assert gpa_rdd.\\\n",
    "    map(map_weighted_gpa).\\\n",
    "    first() == ['2020Fall', [4, 1]]\n",
    "# the key should be a string\n",
    "assert gpa_rdd.map(map_weighted_gpa).map(lambda x: type(x[0])).distinct().count() == 1\n",
    "assert gpa_rdd.map(map_weighted_gpa).map(lambda x: type(x[0])).distinct().first() == str\n",
    "# all values should be of length 2\n",
    "assert gpa_rdd.map(map_weighted_gpa).map(lambda x: len(x[1])).distinct().count() == 1\n",
    "assert gpa_rdd.map(map_weighted_gpa).map(lambda x: len(x[1])).distinct().first() == 2"
   ]
  },
  {
   "cell_type": "code",
   "execution_count": null,
   "metadata": {},
   "outputs": [],
   "source": [
    "# there should be three results in the map reduce because there are three semesters\n",
    "gpa_rdd.\\\n",
    "    map(map_weighted_gpa).\\\n",
    "    reduceByKey(reduce_weighted_gpa).count()"
   ]
  },
  {
   "cell_type": "code",
   "execution_count": null,
   "metadata": {
    "deletable": false,
    "editable": false,
    "nbgrader": {
     "cell_type": "code",
     "checksum": "dfda9dab38495c7d3dfc23b6a3dbe4ec",
     "grade": true,
     "grade_id": "cell-13bf9e0ac9eedaa1",
     "locked": true,
     "points": 5,
     "schema_version": 3,
     "solution": false,
     "task": false
    }
   },
   "outputs": [],
   "source": [
    "# 5 pts\n",
    "assert (gpa_rdd.\\\n",
    "    map(map_weighted_gpa).\\\n",
    "    reduceByKey(reduce_weighted_gpa).collect()[0] == ('2021Spring', [3.0749999999999997, 12]) or \\\n",
    "    (gpa_rdd.\\\n",
    "    map(map_weighted_gpa).\\\n",
    "    reduceByKey(reduce_weighted_gpa).collect()[0] == ('2021Fall', [3.4250000000000003, 12])) or \\\n",
    "    (gpa_rdd.\\\n",
    "    map(map_weighted_gpa).\\\n",
    "    reduceByKey(reduce_weighted_gpa).collect()[0] == ('2020Fall', [3.4375, 16])))"
   ]
  },
  {
   "cell_type": "markdown",
   "metadata": {
    "deletable": false,
    "editable": false,
    "nbgrader": {
     "cell_type": "markdown",
     "checksum": "35320fa6f534bde8454e665f3fc5ff79",
     "grade": false,
     "grade_id": "cell-8e724bf49693493f",
     "locked": true,
     "schema_version": 3,
     "solution": false,
     "task": false
    }
   },
   "source": [
    "## Time series"
   ]
  },
  {
   "cell_type": "markdown",
   "metadata": {},
   "source": [
    "## Question 2: Stock Price\n",
    "To make a good investment decision, we have to know the company well. In this question, we have the stock price of a company in the past 3 months. We want to obtain `minimun` and `maximum` of the stock price in the past 3 months using MapReduce. The first element of the value ate the end of the computation should be the minimum stock price and the second element should be the maximum stock price."
   ]
  },
  {
   "cell_type": "code",
   "execution_count": null,
   "metadata": {},
   "outputs": [],
   "source": [
    "# stock price dataset\n",
    "stock_price = sc.parallelize([['2021-06-16', 130.15], ['2021-06-17', 131.79], ['2021-06-18', 130.46], \n",
    "                             ['2021-06-21', 132.3],\n",
    "['2021-06-22', 133.98], ['2021-06-23', 133.7], ['2021-06-24', 133.41], ['2021-06-25', 133.11],\n",
    "['2021-06-28', 134.78], ['2021-06-29', 136.33], ['2021-06-30', 136.96], ['2021-07-01', 137.27],\n",
    "['2021-07-02', 139.96], ['2021-07-06', 142.02] ,['2021-07-07', 144.57] ,['2021-07-08', 143.24] ,\n",
    "['2021-07-09', 145.11], ['2021-07-12', 144.5] ,['2021-07-13', 145.64] ,['2021-07-14', 149.15] ,\n",
    "['2021-07-15', 148.48], ['2021-07-16', 146.39] ,['2021-07-19', 142.45] ,['2021-07-20', 146.15] ,\n",
    "['2021-07-21', 145.4], ['2021-07-22', 146.8] ,['2021-07-23', 148.56] ,['2021-07-26', 148.99] ,\n",
    "['2021-07-27', 146.77], ['2021-07-28', 144.98] ,['2021-07-29', 145.64] ,['2021-07-30', 145.86] ,\n",
    "['2021-08-02', 145.52], ['2021-08-03', 147.36] ,['2021-08-04', 146.95] ,['2021-08-05', 147.06] ,\n",
    "['2021-08-06', 146.14], ['2021-08-09', 146.09] ,['2021-08-10', 145.6] ,['2021-08-11', 145.86] ,\n",
    "['2021-08-12', 148.89], ['2021-08-13', 149.1] ,['2021-08-16', 151.12] ,['2021-08-17', 150.19] ,\n",
    "['2021-08-18', 146.36], ['2021-08-19', 146.7] ,['2021-08-20', 148.19] ,['2021-08-23', 149.71] ,\n",
    "['2021-08-24', 149.62], ['2021-08-25', 148.36] ,['2021-08-26', 147.54] ,['2021-08-27', 148.6] ,\n",
    "['2021-08-30', 153.12], ['2021-08-31', 151.83] ,['2021-09-01', 152.51] ,['2021-09-02', 153.65] ,\n",
    "['2021-09-03', 154.3], ['2021-09-07', 156.69] ,['2021-09-08', 155.11] ,['2021-09-09', 154.07] ,\n",
    "['2021-09-10', 148.97],['2021-09-13', 149.55] ,['2021-09-14', 148.12] ,['2021-09-15', 149.03] ,\n",
    "['2021-09-16', 148.79]])"
   ]
  },
  {
   "cell_type": "code",
   "execution_count": null,
   "metadata": {
    "deletable": false,
    "nbgrader": {
     "cell_type": "code",
     "checksum": "613914c0b3af9f72db28c75a78aeb41c",
     "grade": false,
     "grade_id": "cell-cd42e9f0182e6136",
     "locked": false,
     "schema_version": 3,
     "solution": true,
     "task": false
    }
   },
   "outputs": [],
   "source": [
    "# define the map operation\n",
    "def stock_map(kv):  \n",
    "    # YOUR CODE HERE\n",
    "    raise NotImplementedError()\n",
    "\n",
    "def stock_reduce(v1, v2):   \n",
    "    # YOUR CODE HERE\n",
    "    raise NotImplementedError()"
   ]
  },
  {
   "cell_type": "code",
   "execution_count": null,
   "metadata": {
    "deletable": false,
    "editable": false,
    "nbgrader": {
     "cell_type": "code",
     "checksum": "4a79e39e4332bcaeb5e3ab4c50f461d8",
     "grade": true,
     "grade_id": "cell-ba373e3294e00300",
     "locked": true,
     "points": 10,
     "schema_version": 3,
     "solution": false,
     "task": false
    }
   },
   "outputs": [],
   "source": [
    "# 10 pts\n",
    "# there should be 1 result only\n",
    "assert stock_price.map(stock_map).reduceByKey(stock_reduce).count() == 1\n",
    "# the resulting value should have two elements (stock price 1, stock price 2)\n",
    "assert len(stock_price.map(stock_map).reduceByKey(stock_reduce).values().first()) == 2\n",
    "# lowest stock price was 130.15\n",
    "assert stock_price.map(stock_map).reduceByKey(stock_reduce).values().first()[0] == 130.15\n",
    "# highest stock price was 156.69\n",
    "assert stock_price.map(stock_map).reduceByKey(stock_reduce).values().first()[1] == 156.69"
   ]
  },
  {
   "cell_type": "markdown",
   "metadata": {
    "deletable": false,
    "editable": false,
    "nbgrader": {
     "cell_type": "markdown",
     "checksum": "954ee23398e71740d7d3a3ef56c6a070",
     "grade": false,
     "grade_id": "cell-bcb406d1a0ef5a81",
     "locked": true,
     "schema_version": 3,
     "solution": false,
     "task": false
    }
   },
   "source": [
    "##  Temperature Deviation\n",
    "Historical changes in temperature throughout history is a higly noisy process. Still, we can use long-term trends to understand these fluctiations and perhaps relate them to external factors such as changes in the oceans, magnetic fields of the earth, or human activity (CO2).\n",
    "\n",
    "Luckily, we have data to explore how temperatures have changes over the years. In the dataset below, we have obtained a set of key-value pairs where the key is the year $y$ and the value is a temperature deviation $t_y$ from a long-term historical record (e.g., inferred from the artic's permafrost)."
   ]
  },
  {
   "cell_type": "code",
   "execution_count": null,
   "metadata": {},
   "outputs": [],
   "source": [
    "global_avg_temp = sc.parallelize([[1880, -0.06], [1881, -0.09], [1882, 0.08], [1883, -0.28], \n",
    "                                  [1884, -0.24], \n",
    "                   [1885, -0.45], [1886, -0.18], [1887, -0.53], [1888, -0.33], [1889, -0.03],\n",
    "                   [1890, -0.34], [1891, -0.4], [1892, -0.25], [1893, -0.74], [1894, -0.42],\n",
    "                   [1895, -0.44], [1896, -0.15], [1897, -0.13], [1898, -0.01], [1899, -0.14],\n",
    "                   [1900, -0.35], [1901, -0.13], [1902, -0.1], [1903, -0.24], [1904, -0.62],\n",
    "                   [1905, -0.35], [1906, -0.14], [1907, -0.37], [1908, -0.38], [1909, -0.58],\n",
    "                    [1910, -0.36], [1911, -0.55], [1912, -0.28], [1913, -0.35], [1914, 0.11],\n",
    "                   [1915, -0.15], [1916, -0.13], [1917, -0.53], [1918, -0.32], [1919, -0.23],\n",
    "                    [1920, -0.2], [1921, -0.07], [1922, -0.3], [1923, -0.24], [1924, -0.22],\n",
    "                    [1925, -0.4], [1926, 0.13], [1927, -0.23], [1928, -0.08], [1929, -0.49],\n",
    "                    [1930, -0.34], [1931, -0.03], [1932, 0.15], [1933, -0.29], [1934, -0.3],\n",
    "                    [1935, -0.28], [1936, -0.27], [1937, -0.18], [1938, 0.02], [1939, -0.11],\n",
    "                    [1940, 0.01], [1941, 0.27], [1942, 0.29], [1943, -0.03], [1944, 0.39],\n",
    "                    [1945, 0.16], [1946, 0.24], [1947, -0.16], [1948, 0.06], [1949, 0.12],\n",
    "                   [1950, -0.29], [1951, -0.28], [1952, 0.13], [1953, 0.09], [1954, -0.2],\n",
    "                    [1955, 0.14], [1956, -0.14], [1957, -0.09], [1958, 0.32], [1959, 0.16],\n",
    "                   [1960, 0.04], [1961, 0.13], [1962, 0.12], [1963, 0.06], [1964, 0.01],\n",
    "                    [1965, -0.07], [1966, -0.05], [1967, -0.09], [1968, -0.2], [1969, -0.09],\n",
    "                    [1970, 0.14], [1971, 0.01], [1972, -0.24], [1973, 0.28], [1974, -0.19],\n",
    "                    [1975, 0.11], [1976, -0.02], [1977, 0.13], [1978, 0.16], [1979, 0.15],\n",
    "                    [1980, 0.33], [1981, 0.51], [1982, 0.14], [1983, 0.53], [1984, 0.3],\n",
    "                    [1985, 0.22], [1986, 0.31], [1987, 0.32], [1988, 0.56], [1989, 0.17],\n",
    "                    [1990, 0.36], [1991, 0.43], [1992, 0.46], [1993, 0.36], [1994, 0.27],\n",
    "                    [1995, 0.56], [1996, 0.25], [1997, 0.34], [1998, 0.6], [1999, 0.51],\n",
    "                   [2000, 0.34], [2001, 0.47], [2002, 0.71], [2003, 0.72], [2004, 0.61],\n",
    "                    [2005, 0.65], [2006, 0.51], [2007, 0.92], [2008, 0.27], [2009, 0.6],\n",
    "                    [2010, 0.73], [2011, 0.47], [2012, 0.44], [2013, 0.62],\n",
    "                   [2014, 0.7], [2015, 0.83], [2016, 1.12], [2017, 0.98], [2018, 0.76],\n",
    "                   [2019, 0.94], [2020, 1.15], [2021, 0.95]])"
   ]
  },
  {
   "cell_type": "markdown",
   "metadata": {
    "deletable": false,
    "editable": false,
    "nbgrader": {
     "cell_type": "markdown",
     "checksum": "1d1dee397cf5408f56ec289f192d03ef",
     "grade": false,
     "grade_id": "cell-4179ac6486b3cb75",
     "locked": true,
     "schema_version": 3,
     "solution": false,
     "task": false
    }
   },
   "source": [
    "## Question 3: Running average of temperature deviation (25 pts)\n",
    "\n",
    "Sometimes, time series are too noisy and require smoothing. We can do this smoothing by computing a running average of values. In this question, you will compute a simple moving average where the resulting RDD will have as key the year $y$ and as the first element of the value $m_y$, the average temperature deviation of the last $n$ years in the data (including the current year):\n",
    "\n",
    "$$m_y = \\frac{\\sum_{i=y-n+1}^{y} t_i}{n}$$\n",
    "\n",
    "For example, for the input data and for $n=2$\n",
    "\n",
    "```\n",
    "(1880, -0.06)\n",
    "(1881, -0.09)\n",
    "(1882, 0.08)\n",
    "(1883, -0.28)\n",
    "```\n",
    "\n",
    "The first element for key 1883 will be\n",
    "\n",
    "$$\n",
    "\\begin{array}\n",
    "mm_{1883} &=\\frac{\\sum_{i=1883-2+1}^{1883} t_i}{2}\\\\\n",
    "& =\\frac{\\sum_{i=1882}^{1883} t_i}{2}\\\\\n",
    "& =\\frac{0.08 -0.28}{2}\\\\\n",
    "& =0.1\n",
    "\\end{array}$$\n",
    "\n",
    "Below, define a function that computes the moving average for $n=5$. Notice that you will be able to compute the moving average **only** starting in year 1884 and ending in year 2021. Because each input element should likely generate several key-value pairs, use `flatMap` instead of `map` as your map step."
   ]
  },
  {
   "cell_type": "code",
   "execution_count": null,
   "metadata": {
    "deletable": false,
    "nbgrader": {
     "cell_type": "code",
     "checksum": "60945251ae4aea6d5d642955f550122c",
     "grade": false,
     "grade_id": "cell-05c1e5276c303f43",
     "locked": false,
     "schema_version": 3,
     "solution": true,
     "task": false
    }
   },
   "outputs": [],
   "source": [
    "# define the map operation\n",
    "def ma_map(kv):    \n",
    "    # YOUR CODE HERE\n",
    "    raise NotImplementedError()\n",
    "\n",
    "def ma_reduce(v1, v2):   \n",
    "    # YOUR CODE HERE\n",
    "    raise NotImplementedError()"
   ]
  },
  {
   "cell_type": "code",
   "execution_count": null,
   "metadata": {},
   "outputs": [],
   "source": [
    "# the first result of the moving average should be average of the first five values of the temperature deviations\n",
    "sum(global_avg_temp.values().take(5))/5"
   ]
  },
  {
   "cell_type": "code",
   "execution_count": null,
   "metadata": {},
   "outputs": [],
   "source": [
    "# confirm that you get the same results\n",
    "sc.parallelize(global_avg_temp.take(5)).\\\n",
    "    flatMap(ma_map).\\\n",
    "    reduceByKey(ma_reduce).\\\n",
    "    filter(lambda kv: kv[0] == 1884).\\\n",
    "    map(lambda kv: (kv[0], kv[1][0])).\\\n",
    "    collect()"
   ]
  },
  {
   "cell_type": "markdown",
   "metadata": {},
   "source": [
    "If you were to run the following code, it should love like this:\n",
    "\n",
    "```python\n",
    "global_avg_temp.\\\n",
    "    flatMap(ma_map).\\\n",
    "    reduceByKey(ma_reduce).\\\n",
    "    filter(lambda kv: kv[0] >= 1884 and kv[0] <= 2021).\\\n",
    "    map(lambda kv: [kv[0], kv[1][0]]).\\\n",
    "    sortByKey().\\\n",
    "    take(10)\n",
    "```\n",
    "\n",
    "```\n",
    "[(1884, -0.11800000000000002),\n",
    " (1885, -0.196),\n",
    " (1886, -0.21400000000000002),\n",
    " (1887, -0.33599999999999997),\n",
    " (1888, -0.346),\n",
    " (1889, -0.30400000000000005),\n",
    " (1890, -0.28200000000000003),\n",
    " (1891, -0.32600000000000007),\n",
    " (1892, -0.27),\n",
    " (1893, -0.352)]\n",
    " ```"
   ]
  },
  {
   "cell_type": "code",
   "execution_count": null,
   "metadata": {},
   "outputs": [],
   "source": [
    "# try it here\n",
    "global_avg_temp.\\\n",
    "    flatMap(ma_map).\\\n",
    "    reduceByKey(ma_reduce).\\\n",
    "    filter(lambda kv: kv[0] >= 1884 and kv[0] <=2021).\\\n",
    "    map(lambda kv: [kv[0], kv[1][0]]).\\\n",
    "    sortByKey().\\\n",
    "    take(10)"
   ]
  },
  {
   "cell_type": "code",
   "execution_count": null,
   "metadata": {
    "deletable": false,
    "editable": false,
    "nbgrader": {
     "cell_type": "code",
     "checksum": "775c35430ff924bd534d118fc800cfc4",
     "grade": true,
     "grade_id": "cell-1ca399b43c600c9c",
     "locked": true,
     "points": 25,
     "schema_version": 3,
     "solution": false,
     "task": false
    }
   },
   "outputs": [],
   "source": [
    "# 25 pts\n",
    "np.testing.assert_almost_equal(global_avg_temp.\\\n",
    "    flatMap(ma_map).\\\n",
    "    reduceByKey(ma_reduce).\\\n",
    "    filter(lambda kv: kv[0] >= 1884 and kv[0] <= 2021).\\\n",
    "    map(lambda kv: [kv[0], kv[1][0]]).\\\n",
    "    sortByKey().\\\n",
    "    values().sum(), 7.837999999999998)"
   ]
  }
 ],
 "metadata": {
  "kernelspec": {
   "display_name": "Python 3",
   "language": "python",
   "name": "python3"
  },
  "language_info": {
   "codemirror_mode": {
    "name": "ipython",
    "version": 3
   },
   "file_extension": ".py",
   "mimetype": "text/x-python",
   "name": "python",
   "nbconvert_exporter": "python",
   "pygments_lexer": "ipython3",
   "version": "3.8.3"
  },
  "latex_envs": {
   "LaTeX_envs_menu_present": true,
   "autoclose": false,
   "autocomplete": true,
   "bibliofile": "biblio.bib",
   "cite_by": "apalike",
   "current_citInitial": 1,
   "eqLabelWithNumbers": true,
   "eqNumInitial": 1,
   "hotkeys": {
    "equation": "Ctrl-E",
    "itemize": "Ctrl-I"
   },
   "labels_anchors": false,
   "latex_user_defs": false,
   "report_style_numbering": false,
   "user_envs_cfg": false
  },
  "toc": {
   "base_numbering": 1,
   "nav_menu": {},
   "number_sections": true,
   "sideBar": true,
   "skip_h1_title": false,
   "title_cell": "Table of Contents",
   "title_sidebar": "Contents",
   "toc_cell": false,
   "toc_position": {},
   "toc_section_display": true,
   "toc_window_display": false
  }
 },
 "nbformat": 4,
 "nbformat_minor": 4
}
