{
 "cells": [
  {
   "cell_type": "markdown",
   "metadata": {
    "deletable": false,
    "editable": false,
    "nbgrader": {
     "cell_type": "markdown",
     "checksum": "ce6a727b38f3fcc506cba517fa115c9d",
     "grade": false,
     "grade_id": "cell-b038e38b5e3072a9",
     "locked": true,
     "schema_version": 3,
     "solution": false
    }
   },
   "source": [
    "# IST 718: Big Data Analytics\n",
    "\n",
    "- Professor: Daniel Acuna <deacuna@syr.edu>\n",
    "\n",
    "## General instructions:\n",
    "\n",
    "- You are welcome to discuss the problems with your classmates but __you are not allowed to copy any part of your answers either from your classmates or from the internet__\n",
    "- You can put the homework files anywhere you want in your https://hub.ischool.syr.edu/ workspace but _do not change_ the file names. The TAs and the professor use these names to grade your homework.\n",
    "- Remove or comment out code that contains `raise NotImplementedError`. This is mainly to make the `assert` statement fail if nothing is submitted.\n",
    "- The tests shown in some cells (i.e., `assert` and `np.testing.` statements) are used to grade your answers. **However, the professor and TAs will use __additional__ test for your answer. Think about cases where your code should run even if it passess all the tests you see.**\n",
    "- Before downloading and submitting your work through Blackboard, remember to save and press `Validate` (or go to \n",
    "`Kernel`$\\rightarrow$`Restart and Run All`). \n",
    "- Good luck!"
   ]
  },
  {
   "cell_type": "code",
   "execution_count": null,
   "metadata": {
    "deletable": false,
    "editable": false,
    "nbgrader": {
     "cell_type": "code",
     "checksum": "f2c7620f6ddaca0b8dfd5b191183fce5",
     "grade": false,
     "grade_id": "cell-6c54a5ae2ade0b80",
     "locked": true,
     "schema_version": 3,
     "solution": false
    }
   },
   "outputs": [],
   "source": [
    "# use only these packages\n",
    "import numpy as np\n",
    "import pandas as pd\n",
    "import matplotlib.pyplot as plt"
   ]
  },
  {
   "cell_type": "markdown",
   "metadata": {},
   "source": [
    "## Part 2. Basic Python programming"
   ]
  },
  {
   "cell_type": "markdown",
   "metadata": {},
   "source": [
    "**Question 2.1 (20 pts)** World War 3 has broken out somewhere in Siberia. You are trying to help the milarity decipher secret messages. \n",
    "\n",
    "Someone has told you that the following rules must be sequently applied to decipher a string `s` (**remember that character indices in `s` start from 0**)\n",
    "\n",
    "1. Keep only the characters at even index locations\n",
    "2. Move the last 3 characters from the result of step 1 into the front and the rest to the end\n",
    "3. Reverse the string from result of step 2 (i.e., make first character be last, second character be second to last, etc.)\n",
    "4. Make upper case letter be lower case, and vice versa from step 3\n",
    "\n",
    "Below, define a function `ww3_decipher` that performs these operations. Remember that a string is nothing more than a list of characters and can be accessed as such."
   ]
  },
  {
   "cell_type": "code",
   "execution_count": null,
   "metadata": {
    "deletable": false,
    "nbgrader": {
     "cell_type": "code",
     "checksum": "4632b65cc6624556d106e594ca88f382",
     "grade": false,
     "grade_id": "cell-0f72fa5c5caed914",
     "locked": false,
     "schema_version": 3,
     "solution": true,
     "task": false
    }
   },
   "outputs": [],
   "source": [
    "# define the function ww3_decipher below\n",
    "def ww3_decipher(s):\n",
    "    # YOUR CODE HERE\n",
    "    raise NotImplementedError()"
   ]
  },
  {
   "cell_type": "markdown",
   "metadata": {},
   "source": [
    "Obviously, one character strings are simple to decipher:\n",
    "\n",
    "```python\n",
    "ww3_decipher('a')\n",
    "```\n",
    "```\n",
    ">> 'A'\n",
    "```\n",
    "\n",
    "But more complicated strings such `'E h O L L'` can be hard to decipher without the recipe. So let's apply the recipe:\n",
    "\n",
    "Input: `'E h O L L'`\n",
    "1. Step 1: `'EhOLL'`\n",
    "2. Step 2: `'OLLEh'`\n",
    "3. Step 3: `'hELLO'`\n",
    "4. Step 4: `'Hello'`\n",
    "\n",
    "So applying the function should return \"Hello\":\n",
    "\n",
    "```python\n",
    "ww3_decipher('E h O L L')\n",
    "```\n",
    "\n",
    "```\n",
    ">> 'Hello'\n",
    "```"
   ]
  },
  {
   "cell_type": "code",
   "execution_count": null,
   "metadata": {},
   "outputs": [],
   "source": [
    "# try it below\n",
    "ww3_decipher('E h O L L')"
   ]
  },
  {
   "cell_type": "markdown",
   "metadata": {},
   "source": [
    "Let's try a more complicated one:\n",
    "\n",
    "Input: `'T Y L A N a   A T A d   G I b   : 8 1 7   t s i S C I'`\n",
    "1. Step 1. `'TYLANa ATAd GIb :817 tsiSCI'`\n",
    "2. Step 2. `'SCITYLANa ATAd GIb :817 tsi'`\n",
    "3. Step 3. `'ist 718: bIG dATA aNALYTICS'`\n",
    "4. Step 4. `'IST 718: Big Data Analytics'`"
   ]
  },
  {
   "cell_type": "code",
   "execution_count": null,
   "metadata": {},
   "outputs": [],
   "source": [
    "# try your code below\n",
    "print(ww3_decipher('T Y L A N a   A T A d   G I b   : 8 1 7   t s i S C I'))"
   ]
  },
  {
   "cell_type": "code",
   "execution_count": null,
   "metadata": {},
   "outputs": [],
   "source": [
    "# try other examples\n",
    "print(ww3_decipher('T   R E G N O L   A   S I   S I H t T S E'))\n",
    "print(ww3_decipher('A D I L A V S S O R C   S Y A W L a ! E T'))\n",
    "print(ww3_decipher('U R T   E H T   M O R F   U O Y   D N I L B   O T   S E Y E   R U O Y   R E V O   D E L L U P   N E E B   S A H   T A H T   D L R O W   E H T   S I   T i   . S E X A T   R U O Y   Y A P   U O Y   N E H W   . . . H C R U H C   O T   O G   U O Y   N E H W   . . . K R O W   O T   O G   U O Y   N E H W   T I   L E E F   N A C   U O y   . N O I S I V E L E T   R U O Y   N O   N R U T   U O Y   N E H W   R O   W O D N I W   R U O Y   T U O   K O O L   U O Y   N E H W   T I   E E S   N A C   U O y   . M O O R   Y R E V   S I H T   N I   , W O N   N E V e   . S U   D N U O R A   L L A   S I   T i   . E R E H W Y R E V E   S I   X I R T A m   E H t . H T'))"
   ]
  },
  {
   "cell_type": "markdown",
   "metadata": {},
   "source": [
    "The tests below need to pass to get your grade."
   ]
  },
  {
   "cell_type": "code",
   "execution_count": null,
   "metadata": {
    "deletable": false,
    "editable": false,
    "nbgrader": {
     "cell_type": "code",
     "checksum": "ac5ceaa7038ee1e01ab07a0c2f5b3bbb",
     "grade": true,
     "grade_id": "cell-772102d34c8b0a86",
     "locked": true,
     "points": 20,
     "schema_version": 3,
     "solution": false,
     "task": false
    }
   },
   "outputs": [],
   "source": [
    "# 20 pts\n",
    "np.testing.assert_equal(ww3_decipher('a'), 'A')\n",
    "np.testing.assert_equal(ww3_decipher('A'), 'a')\n",
    "np.testing.assert_equal(ww3_decipher('0 2'), '20')\n",
    "np.testing.assert_equal(ww3_decipher('6 5 4 3 2 1 0 9 8 7'), '0123456789')\n",
    "np.testing.assert_equal(ww3_decipher('U G N A L   G N I M M A R G O R P   Y N A   R O   , r   , N O H T Y p E G A'), \n",
    "                       \"Python, R, or any programming language\")"
   ]
  },
  {
   "cell_type": "markdown",
   "metadata": {},
   "source": [
    "**Question 2.2 (15 pts)** Following the recipe for deciphering a message, write the cipher of a message below and call it `ww3_cipher`. **To reverse step 1, simply add blank spaces to the string.**"
   ]
  },
  {
   "cell_type": "code",
   "execution_count": null,
   "metadata": {
    "deletable": false,
    "nbgrader": {
     "cell_type": "code",
     "checksum": "43b0e122a4b767000791b48a20be7090",
     "grade": false,
     "grade_id": "cell-48471c8515aa4e5c",
     "locked": false,
     "schema_version": 3,
     "solution": true
    }
   },
   "outputs": [],
   "source": [
    "# create the function ww3_cipher below\n",
    "def ww3_cipher(s):\n",
    "    # YOUR CODE HERE\n",
    "    raise NotImplementedError()"
   ]
  },
  {
   "cell_type": "markdown",
   "metadata": {},
   "source": [
    "An obvious way of testing if this works is that `ww3_decipher(ww3_cipher(s)) == s` for any string s. This is, the deciphering of a ciphered string s should be the same string s.\n",
    "\n",
    "```python\n",
    "print(\"Hello world!\")\n",
    "print(ww3_decipher(ww3_cipher(\"Hello world!\")))\n",
    "```\n",
    "\n",
    "```\n",
    " Hello world!\n",
    " Hello world!\n",
    "```"
   ]
  },
  {
   "cell_type": "markdown",
   "metadata": {},
   "source": [
    "Have fun ciphering messages!\n",
    "\n",
    "```python\n",
    "print(ww3_cipher(\"This is an ultrasecret message\"))\n",
    "```\n",
    "\n",
    "```\n",
    "S S E M   T E R C E S A R T L U   N A   S I   S I H t E G A\n",
    "```"
   ]
  },
  {
   "cell_type": "code",
   "execution_count": null,
   "metadata": {},
   "outputs": [],
   "source": [
    "# try your code below\n",
    "ww3_decipher(ww3_cipher(\"Hello world!\"))"
   ]
  },
  {
   "cell_type": "code",
   "execution_count": null,
   "metadata": {
    "deletable": false,
    "editable": false,
    "nbgrader": {
     "cell_type": "code",
     "checksum": "b2e2b5ae7ce50e90b49ff3c289c9bf36",
     "grade": true,
     "grade_id": "cell-fc6a0f4ea3e7d63d",
     "locked": true,
     "points": 15,
     "schema_version": 3,
     "solution": false
    }
   },
   "outputs": [],
   "source": [
    "# 15 pts\n",
    "np.testing.assert_equal(ww3_cipher('A'), 'a')\n",
    "np.testing.assert_equal(ww3_cipher('a'), 'A')\n",
    "np.testing.assert_equal(ww3_cipher('20'), '0 2')\n",
    "np.testing.assert_equal(ww3_cipher('0123456789'), '6 5 4 3 2 1 0 9 8 7')\n",
    "np.testing.assert_equal(ww3_cipher(\"Python, R, or any programming language\"), \n",
    "                       'U G N A L   G N I M M A R G O R P   Y N A   R O   , r   , N O H T Y p E G A')"
   ]
  },
  {
   "cell_type": "markdown",
   "metadata": {},
   "source": [
    "## Matplotlib and Pandas"
   ]
  },
  {
   "cell_type": "code",
   "execution_count": null,
   "metadata": {},
   "outputs": [],
   "source": [
    "# import needed packages\n",
    "import matplotlib.pyplot as plt\n",
    "import numpy as np\n",
    "import pandas as pd"
   ]
  },
  {
   "cell_type": "markdown",
   "metadata": {},
   "source": [
    "Use the following dataset"
   ]
  },
  {
   "cell_type": "code",
   "execution_count": null,
   "metadata": {
    "deletable": false,
    "editable": false,
    "nbgrader": {
     "cell_type": "code",
     "checksum": "d644d840a566aca10f8a55ddc4eb86e2",
     "grade": false,
     "grade_id": "cell-911f6ddec956c988",
     "locked": true,
     "schema_version": 3,
     "solution": false,
     "task": false
    }
   },
   "outputs": [],
   "source": [
    "# Load the data\n",
    "diabetes_data = pd.read_table('diabetes.tab.txt')\n",
    "diabetes_data"
   ]
  },
  {
   "attachments": {
    "image.png": {
     "image/png": "[encoded data removed]"
    }
   },
   "cell_type": "markdown",
   "metadata": {},
   "source": [
    "**Question 2.3: (5 pts)** Below, plot the histogram of Y (disease progression) for `SEX` equal to 2 (male). Use Pandas to do the plotting\n",
    "\n",
    "Your result should look like\n",
    "\n",
    "![image.png](attachment:image.png)"
   ]
  },
  {
   "cell_type": "code",
   "execution_count": null,
   "metadata": {
    "deletable": false,
    "nbgrader": {
     "cell_type": "code",
     "checksum": "de914d5b824d3fbde54a41a1a3250d9d",
     "grade": true,
     "grade_id": "cell-7990846e56e9d7cc",
     "locked": false,
     "points": 5,
     "schema_version": 3,
     "solution": true
    }
   },
   "outputs": [],
   "source": [
    "# 5 pts\n",
    "# YOUR CODE HERE\n",
    "raise NotImplementedError()"
   ]
  },
  {
   "attachments": {
    "image.png": {
     "image/png": "[encoded data removed]"
    }
   },
   "cell_type": "markdown",
   "metadata": {},
   "source": [
    "**Question 2.4:** (5 pts) Produce one scatter plot using Pandas functionality to depic the relationship between `BMI` and `Y`. Use red color for women (`SEX == 1`) and blue color for men (`SEX == 2`). With matplotlib `plt.legend` function, add a legend that specifies which color corresponds to which gender.\n",
    "\n",
    "![image.png](attachment:image.png)\n"
   ]
  },
  {
   "cell_type": "code",
   "execution_count": null,
   "metadata": {
    "deletable": false,
    "nbgrader": {
     "cell_type": "code",
     "checksum": "cb90ab4f2e303a27bf0c258cd288c987",
     "grade": true,
     "grade_id": "cell-5a1bc116d42d9d54",
     "locked": false,
     "points": 5,
     "schema_version": 3,
     "solution": true,
     "task": false
    }
   },
   "outputs": [],
   "source": [
    "# 5 pts\n",
    "# YOUR CODE HERE\n",
    "raise NotImplementedError()"
   ]
  },
  {
   "cell_type": "markdown",
   "metadata": {},
   "source": [
    "**Question 2.5:** (5 pts): Use the Pandas DataFrame functionality to compute the mean AGE and BMI and put them in variables `avg_age` and `avg_bmi`"
   ]
  },
  {
   "cell_type": "code",
   "execution_count": null,
   "metadata": {
    "deletable": false,
    "nbgrader": {
     "cell_type": "code",
     "checksum": "d2b18d87c25b3b9d7137524e8dac13a6",
     "grade": false,
     "grade_id": "cell-aa8ea4eae878a704",
     "locked": false,
     "schema_version": 3,
     "solution": true
    }
   },
   "outputs": [],
   "source": [
    "# Create the variables avg_age, and avg_bmi below\n",
    "# YOUR CODE HERE\n",
    "raise NotImplementedError()"
   ]
  },
  {
   "cell_type": "code",
   "execution_count": null,
   "metadata": {
    "deletable": false,
    "editable": false,
    "nbgrader": {
     "cell_type": "code",
     "checksum": "1157e9a963a44703a5b2824fd60e33d7",
     "grade": true,
     "grade_id": "cell-3754ac35fe34111a",
     "locked": true,
     "points": 5,
     "schema_version": 3,
     "solution": false
    }
   },
   "outputs": [],
   "source": [
    "# 5 pts\n",
    "np.testing.assert_approx_equal(avg_age, 48.51, significant=1)\n",
    "np.testing.assert_approx_equal(avg_bmi, 26.37, significant=1)"
   ]
  },
  {
   "cell_type": "markdown",
   "metadata": {},
   "source": [
    "**Question 2.6:** (5 pts) Create a new dataframe `diabetes_data2` with standardized `AGE` and `BMI` from the dataframe `diabetes_data`. Standardization is the process of subtracting the mean of a feature and dividing the result by the standard deviation of the feature. Use the `apply` method of a dataframe to apply a function to the age and bmi series to achieve this result"
   ]
  },
  {
   "cell_type": "code",
   "execution_count": null,
   "metadata": {
    "deletable": false,
    "nbgrader": {
     "cell_type": "code",
     "checksum": "b853ba6bf96fd098cfe46a6db4b722f8",
     "grade": false,
     "grade_id": "cell-8051461f466d9ac5",
     "locked": false,
     "schema_version": 3,
     "solution": true
    }
   },
   "outputs": [],
   "source": [
    "# create the dataframe diabetes_data2 here\n",
    "# YOUR CODE HERE\n",
    "raise NotImplementedError()"
   ]
  },
  {
   "cell_type": "code",
   "execution_count": null,
   "metadata": {
    "deletable": false,
    "editable": false,
    "nbgrader": {
     "cell_type": "code",
     "checksum": "3f8ec3c5fc71bb1f7862a2a7425fa0ac",
     "grade": true,
     "grade_id": "cell-4571ce3b6a33685a",
     "locked": true,
     "points": 5,
     "schema_version": 3,
     "solution": false
    }
   },
   "outputs": [],
   "source": [
    "# 5 points\n",
    "np.testing.assert_equal(set(diabetes_data2.columns), {'AGE', 'BMI'})\n",
    "np.testing.assert_almost_equal(diabetes_data2['AGE'].mean(), 0)\n",
    "np.testing.assert_almost_equal(diabetes_data2['AGE'].std(), 1, decimal=1)\n",
    "np.testing.assert_almost_equal(diabetes_data2['BMI'].mean(), 0)\n",
    "np.testing.assert_almost_equal(diabetes_data2['BMI'].std(), 1, decimal=1)"
   ]
  }
 ],
 "metadata": {
  "kernelspec": {
   "display_name": "Python 3",
   "language": "python",
   "name": "python3"
  },
  "language_info": {
   "codemirror_mode": {
    "name": "ipython",
    "version": 3
   },
   "file_extension": ".py",
   "mimetype": "text/x-python",
   "name": "python",
   "nbconvert_exporter": "python",
   "pygments_lexer": "ipython3",
   "version": "3.8.8"
  },
  "name": "lab1-no-key",
  "notebookId": 3197279189044075
 },
 "nbformat": 4,
 "nbformat_minor": 1
}
