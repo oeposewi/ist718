{
 "cells": [
  {
   "cell_type": "markdown",
   "metadata": {
    "deletable": false,
    "editable": false,
    "nbgrader": {
     "cell_type": "markdown",
     "checksum": "76751541fd4e986454a49cc04ffd4491",
     "grade": false,
     "grade_id": "cell-fd57f7abd895c55d",
     "locked": true,
     "schema_version": 3,
     "solution": false,
     "task": false
    }
   },
   "source": [
    "# IST 718: Big Data Analytics\n",
    "\n",
    "- Professor: Daniel Acuna <deacuna@syr.edu>\n",
    "\n",
    "## General instructions:\n",
    "\n",
    "- You are welcome to discuss the problems with your classmates but __you are not allowed to copy any part of your answers either from your classmates or from the internet__\n",
    "- You can put the homework files anywhere you want in your http://notebook.acuna.io workspace but _do not change_ the file names. The TAs and the professor use these names to grade your homework.\n",
    "- Remove or comment out code that contains `raise NotImplementedError`. This is mainly to make the `assert` statement fail if nothing is submitted.\n",
    "- The tests shown in some cells (i.e., `assert` and `np.testing.` statements) are used to grade your answers. **However, the professor and TAs will use __additional__ test for your answer. Think about cases where your code should run even if it passess all the tests you see.**\n",
    "- Before downloading and submitting your work through Blackboard, remember to save and press `Validate` (or go to \n",
    "`Kernel`$\\rightarrow$`Restart and Run All`). \n",
    "- Good luck!"
   ]
  },
  {
   "cell_type": "code",
   "execution_count": 1,
   "metadata": {},
   "outputs": [],
   "source": [
    "# Load the packages needed for this part\n",
    "# create spark and sparkcontext objects\n",
    "from pyspark.sql import SparkSession\n",
    "import numpy as np\n",
    "\n",
    "spark = SparkSession.builder.getOrCreate()\n",
    "sc = spark.sparkContext\n",
    "\n",
    "import pyspark\n",
    "from pyspark.ml import feature, regression, Pipeline, classification, pipeline, evaluation\n",
    "from pyspark.sql import functions as fn, Row\n",
    "from pyspark import sql\n",
    "\n",
    "import matplotlib.pyplot as plt\n",
    "import pandas as pd"
   ]
  },
  {
   "cell_type": "markdown",
   "metadata": {
    "deletable": false,
    "editable": false,
    "nbgrader": {
     "cell_type": "markdown",
     "checksum": "6f64982b8a3e22b6a1dfa5645995b2ae",
     "grade": false,
     "grade_id": "cell-84b632357d439c8b",
     "locked": true,
     "schema_version": 3,
     "solution": false,
     "task": false
    }
   },
   "source": [
    "# Part 2"
   ]
  },
  {
   "cell_type": "markdown",
   "metadata": {
    "deletable": false,
    "editable": false,
    "nbgrader": {
     "cell_type": "markdown",
     "checksum": "18b1f0bb96201e11ac44db3cfec8d79e",
     "grade": false,
     "grade_id": "cell-47f802f8b879145d",
     "locked": true,
     "schema_version": 3,
     "solution": false,
     "task": false
    }
   },
   "source": [
    "In this section, you are going to develop a SMS spam detector based on logistic regression. This is the same idea behind sentiment analysis, but instead of predicting positive sentiment vs negative sentiment, you are going to predict whether a SMS text is spam or not.\n",
    "\n",
    "The dataset will be in `sms_spam_df`"
   ]
  },
  {
   "cell_type": "code",
   "execution_count": 2,
   "metadata": {
    "deletable": false,
    "editable": false,
    "nbgrader": {
     "cell_type": "code",
     "checksum": "07ac3cd916a4d265a166256ad820dca5",
     "grade": false,
     "grade_id": "cell-2fc415e23f429e6b",
     "locked": true,
     "schema_version": 3,
     "solution": false,
     "task": false
    }
   },
   "outputs": [],
   "source": [
    "sms_spam_df = spark.read.csv('sms_spam.csv', header=True, inferSchema=True)"
   ]
  },
  {
   "cell_type": "markdown",
   "metadata": {
    "deletable": false,
    "editable": false,
    "nbgrader": {
     "cell_type": "markdown",
     "checksum": "dd1ceb68e6ecb69a2f9eb60faea19fad",
     "grade": false,
     "grade_id": "cell-e1b24d4d3df82dde",
     "locked": true,
     "schema_version": 3,
     "solution": false,
     "task": false
    }
   },
   "source": [
    "# Question 2.1\n",
    "\n",
    "Encode the `type` column to be 1 for `spam` and 0 for `ham` and store the result in `sms_spam2_df`. Besides, assign the count of spam to `spam_count` and the count of ham to `ham_count`. "
   ]
  },
  {
   "cell_type": "code",
   "execution_count": 3,
   "metadata": {
    "deletable": false,
    "nbgrader": {
     "cell_type": "code",
     "checksum": "eca09f645c3e6ba100cad98eb17c67c2",
     "grade": false,
     "grade_id": "cell-7d71c3cf0aebba7f",
     "locked": false,
     "schema_version": 3,
     "solution": true,
     "task": false
    }
   },
   "outputs": [],
   "source": [
    "# create sms_spam2_df below\n",
    "\n",
    "from pyspark.sql.functions import *\n",
    "\n",
    "sms_spam2_df = sms_spam_df.withColumn('type', \n",
    "                                  when(sms_spam_df.type=='spam',1)\n",
    "                                 .when(sms_spam_df.type=='ham',0).alias('type'))\n",
    "\n",
    "counts_ = sms_spam2_df.groupBy('type').count().collect()\n",
    "spam_count = counts_[0][1]\n",
    "ham_count = counts_[1][1]"
   ]
  },
  {
   "cell_type": "code",
   "execution_count": 4,
   "metadata": {},
   "outputs": [
    {
     "name": "stdout",
     "output_type": "stream",
     "text": [
      "+----+--------------------+\n",
      "|type|                text|\n",
      "+----+--------------------+\n",
      "|   0|Go until jurong p...|\n",
      "|   0|Ok lar... Joking ...|\n",
      "|   1|Free entry in 2 a...|\n",
      "|   0|U dun say so earl...|\n",
      "|   0|Nah I don't think...|\n",
      "|   1|FreeMsg Hey there...|\n",
      "|   0|Even my brother i...|\n",
      "|   0|As per your reque...|\n",
      "|   1|WINNER!! As a val...|\n",
      "|   1|Had your mobile 1...|\n",
      "|   0|I'm gonna be home...|\n",
      "|   1|SIX chances to wi...|\n",
      "|   1|URGENT! You have ...|\n",
      "|   0|I've been searchi...|\n",
      "|   0|I HAVE A DATE ON ...|\n",
      "|   1|XXXMobileMovieClu...|\n",
      "|   0|Oh k...i'm watchi...|\n",
      "|   0|Eh u remember how...|\n",
      "|   0|Fine if that's th...|\n",
      "|   1|England v Macedon...|\n",
      "+----+--------------------+\n",
      "only showing top 20 rows\n",
      "\n"
     ]
    }
   ],
   "source": [
    "sms_spam2_df.show()"
   ]
  },
  {
   "cell_type": "code",
   "execution_count": 5,
   "metadata": {},
   "outputs": [
    {
     "name": "stdout",
     "output_type": "stream",
     "text": [
      "+----+--------------------+\n",
      "|type|                text|\n",
      "+----+--------------------+\n",
      "|   0|Go until jurong p...|\n",
      "|   0|Ok lar... Joking ...|\n",
      "|   1|Free entry in 2 a...|\n",
      "|   0|U dun say so earl...|\n",
      "|   0|Nah I don't think...|\n",
      "|   1|FreeMsg Hey there...|\n",
      "|   0|Even my brother i...|\n",
      "|   0|As per your reque...|\n",
      "|   1|WINNER!! As a val...|\n",
      "|   1|Had your mobile 1...|\n",
      "|   0|I'm gonna be home...|\n",
      "|   1|SIX chances to wi...|\n",
      "|   1|URGENT! You have ...|\n",
      "|   0|I've been searchi...|\n",
      "|   0|I HAVE A DATE ON ...|\n",
      "|   1|XXXMobileMovieClu...|\n",
      "|   0|Oh k...i'm watchi...|\n",
      "|   0|Eh u remember how...|\n",
      "|   0|Fine if that's th...|\n",
      "|   1|England v Macedon...|\n",
      "+----+--------------------+\n",
      "only showing top 20 rows\n",
      "\n"
     ]
    }
   ],
   "source": [
    "# check here\n",
    "sms_spam2_df.show()"
   ]
  },
  {
   "cell_type": "code",
   "execution_count": 6,
   "metadata": {
    "deletable": false,
    "editable": false,
    "nbgrader": {
     "cell_type": "code",
     "checksum": "a8c5e06fedfc3948ad0fbb5bca9e635f",
     "grade": true,
     "grade_id": "cell-fd53856d153a78b0",
     "locked": true,
     "points": 5,
     "schema_version": 3,
     "solution": false,
     "task": false
    }
   },
   "outputs": [],
   "source": [
    "# (5 pts)\n",
    "np.testing.assert_array_equal(\n",
    "    sms_spam2_df.groupBy('type').count().orderBy('type').rdd.map(lambda x: x['count']).collect(),\n",
    "    [4827, 747])\n",
    "np.testing.assert_array_equal(spam_count, 747)\n",
    "np.testing.assert_array_equal(ham_count, 4827)"
   ]
  },
  {
   "cell_type": "markdown",
   "metadata": {
    "deletable": false,
    "editable": false,
    "nbgrader": {
     "cell_type": "markdown",
     "checksum": "1197a7c2907babcd6224b19400f84fd4",
     "grade": false,
     "grade_id": "cell-2b8e3e4ab912ade5",
     "locked": true,
     "schema_version": 3,
     "solution": false,
     "task": false
    }
   },
   "source": [
    "# Question 2.2: tfidf feature engineering\n",
    "Create a pipeline that combines a `Tokenizer`, `CounterVectorizer`, and a `IDF` estimator to compute the tfidf vectors of each SMS. Fit this pipeline and assign the pipeline transformer to a variable `tfidf_pipeline`. The `Tokenizer` step should create a column `words`, the `CounterVectorizer` step should create a column `tf`, and the `IDF` step should create a column `tfidf`."
   ]
  },
  {
   "cell_type": "code",
   "execution_count": 32,
   "metadata": {
    "deletable": false,
    "nbgrader": {
     "cell_type": "code",
     "checksum": "4b7e5f06cbd4cb61622663886e7511c0",
     "grade": false,
     "grade_id": "cell-b5ee789cf3aec7fa",
     "locked": false,
     "schema_version": 3,
     "solution": true,
     "task": false
    }
   },
   "outputs": [
    {
     "name": "stdout",
     "output_type": "stream",
     "text": [
      "object without fit:\n",
      " <class 'pyspark.ml.pipeline.Pipeline'> \n",
      " [Tokenizer_db1565a346b5, CountVectorizer_de3e9a1239a5, IDF_7663f4e3223a]\n",
      "\n",
      "Object after fit:\n",
      " <class 'pyspark.ml.pipeline.PipelineModel'> \n",
      " [Tokenizer_db1565a346b5, CountVectorizerModel: uid=CountVectorizer_de3e9a1239a5, vocabularySize=13525, IDFModel: uid=IDF_7663f4e3223a, numDocs=5574, numFeatures=13525]\n"
     ]
    }
   ],
   "source": [
    "# create a Pipeline transformer and name it tfidf_pipeline\n",
    "from pyspark.ml.feature import Tokenizer, CountVectorizer, IDF\n",
    "\n",
    "# create Pipeline \n",
    "tfidf_pipeline = Pipeline(stages=[\n",
    "    \n",
    "    Tokenizer(inputCol='text',outputCol='words'),\n",
    "    \n",
    "    CountVectorizer(inputCol='words', outputCol='tf'),\n",
    "    \n",
    "    IDF(inputCol='tf', outputCol='tfidf')        \n",
    "])\n",
    "\n",
    "# check variable type, convey stages\n",
    "print('object without fit:\\n',\n",
    "      type(tfidf_pipeline),\n",
    "      '\\n',\n",
    "      tfidf_pipeline.getStages())\n",
    "\n",
    "# fits pipeline to entire dataset\n",
    "tfidf_pipeline = tfidf_pipeline.fit(sms_spam2_df)\n",
    "\n",
    "# check variable type, convey stages\n",
    "print('\\nObject after fit:\\n',\n",
    "      type(tfidf_pipeline),\n",
    "      '\\n',\n",
    "      tfidf_pipeline.stages) # Vocabulary size: 13525"
   ]
  },
  {
   "cell_type": "code",
   "execution_count": 8,
   "metadata": {},
   "outputs": [
    {
     "name": "stdout",
     "output_type": "stream",
     "text": [
      "+----+--------------------+--------------------+--------------------+--------------------+\n",
      "|type|                text|               words|                  tf|               tfidf|\n",
      "+----+--------------------+--------------------+--------------------+--------------------+\n",
      "|   0|Go until jurong p...|[go, until, juron...|(13525,[8,42,51,6...|(13525,[8,42,51,6...|\n",
      "|   0|Ok lar... Joking ...|[ok, lar..., joki...|(13525,[5,74,404,...|(13525,[5,74,404,...|\n",
      "|   1|Free entry in 2 a...|[free, entry, in,...|(13525,[0,3,8,20,...|(13525,[0,3,8,20,...|\n",
      "|   0|U dun say so earl...|[u, dun, say, so,...|(13525,[5,22,60,1...|(13525,[5,22,60,1...|\n",
      "|   0|Nah I don't think...|[nah, i, don't, t...|(13525,[0,1,66,86...|(13525,[0,1,66,86...|\n",
      "|   1|FreeMsg Hey there...|[freemsg, hey, th...|(13525,[0,2,6,10,...|(13525,[0,2,6,10,...|\n",
      "|   0|Even my brother i...|[even, my, brothe...|(13525,[0,7,9,13,...|(13525,[0,7,9,13,...|\n",
      "|   0|As per your reque...|[as, per, your, r...|(13525,[0,10,11,4...|(13525,[0,10,11,4...|\n",
      "|   1|WINNER!! As a val...|[winner!!, as, a,...|(13525,[0,2,3,14,...|(13525,[0,2,3,14,...|\n",
      "|   1|Had your mobile 1...|[had, your, mobil...|(13525,[0,4,5,10,...|(13525,[0,4,5,10,...|\n",
      "|   0|I'm gonna be home...|[i'm, gonna, be, ...|(13525,[0,1,6,29,...|(13525,[0,1,6,29,...|\n",
      "|   1|SIX chances to wi...|[six, chances, to...|(13525,[0,6,40,48...|(13525,[0,6,40,48...|\n",
      "|   1|URGENT! You have ...|[urgent!, you, ha...|(13525,[0,2,3,4,8...|(13525,[0,2,3,4,8...|\n",
      "|   0|I've been searchi...|[i've, been, sear...|(13525,[0,1,2,3,4...|(13525,[0,1,2,3,4...|\n",
      "|   0|I HAVE A DATE ON ...|[i, have, a, date...|(13525,[1,3,14,16...|(13525,[1,3,14,16...|\n",
      "|   1|XXXMobileMovieClu...|[xxxmobilemoviecl...|(13525,[0,4,8,11,...|(13525,[0,4,8,11,...|\n",
      "|   0|Oh k...i'm watchi...|[oh, k...i'm, wat...|(13525,[159,314,4...|(13525,[159,314,4...|\n",
      "|   0|Eh u remember how...|[eh, u, remember,...|(13525,[1,5,20,46...|(13525,[1,5,20,46...|\n",
      "|   0|Fine if that's th...|[fine, if, that's...|(13525,[4,5,30,59...|(13525,[4,5,30,59...|\n",
      "|   1|England v Macedon...|[england, v, mace...|(13525,[0,4,28,81...|(13525,[0,4,28,81...|\n",
      "+----+--------------------+--------------------+--------------------+--------------------+\n",
      "only showing top 20 rows\n",
      "\n"
     ]
    }
   ],
   "source": [
    "# Check pipeline result\n",
    "tfidf_pipeline.transform(sms_spam2_df).show()"
   ]
  },
  {
   "cell_type": "code",
   "execution_count": 9,
   "metadata": {
    "deletable": false,
    "editable": false,
    "nbgrader": {
     "cell_type": "code",
     "checksum": "a2587fd7e7a74b3de9f4a9a01e8b6b0a",
     "grade": true,
     "grade_id": "cell-957dca13bb7c47e7",
     "locked": true,
     "points": 5,
     "schema_version": 3,
     "solution": false,
     "task": false
    }
   },
   "outputs": [],
   "source": [
    "# (5 pts)\n",
    "np.testing.assert_array_equal([type(s) for s in tfidf_pipeline.stages],\n",
    "                              [feature.Tokenizer, feature.CountVectorizerModel, feature.IDFModel])"
   ]
  },
  {
   "cell_type": "markdown",
   "metadata": {
    "deletable": false,
    "editable": false,
    "nbgrader": {
     "cell_type": "markdown",
     "checksum": "ac92bbb430037e8579ef7d889395003a",
     "grade": false,
     "grade_id": "cell-dce1d79fb97e994a",
     "locked": true,
     "schema_version": 3,
     "solution": false,
     "task": false
    }
   },
   "source": [
    "# Question 2.3: uppercase feature\n",
    "\n",
    "Typical spam messages contain words that are upper case. Create a dataframe `sms_spam3_df` where you add a new column `has_uppercase` which contains an integer `1` if the first sequence of uppercase letters is longer or equal to 3 and an integer `0` otherwise. You can extract sequence of 3 or more uppercase letters by using the regular expression `[A-Z]{3,}`. You will use the function `fn.regexp_extract` to find those sequences and extract the first one (e.g., with index 0) and then use `fn.length` to compute the length of such sequence."
   ]
  },
  {
   "cell_type": "code",
   "execution_count": 10,
   "metadata": {
    "deletable": false,
    "nbgrader": {
     "cell_type": "code",
     "checksum": "20a4b0c6fb965517f0a65a8c19606f13",
     "grade": false,
     "grade_id": "cell-8379dd6c53f8fdb4",
     "locked": false,
     "schema_version": 3,
     "solution": true,
     "task": false
    }
   },
   "outputs": [
    {
     "name": "stdout",
     "output_type": "stream",
     "text": [
      "+----+--------------------+-------------+\n",
      "|type|                text|has_uppercase|\n",
      "+----+--------------------+-------------+\n",
      "|   0|Go until jurong p...|            0|\n",
      "|   0|Ok lar... Joking ...|            0|\n",
      "|   1|Free entry in 2 a...|            0|\n",
      "|   0|U dun say so earl...|            0|\n",
      "|   0|Nah I don't think...|            0|\n",
      "|   1|FreeMsg Hey there...|            0|\n",
      "|   0|Even my brother i...|            0|\n",
      "|   0|As per your reque...|            0|\n",
      "|   1|WINNER!! As a val...|            1|\n",
      "|   1|Had your mobile 1...|            1|\n",
      "|   0|I'm gonna be home...|            0|\n",
      "|   1|SIX chances to wi...|            1|\n",
      "|   1|URGENT! You have ...|            1|\n",
      "|   0|I've been searchi...|            0|\n",
      "|   0|I HAVE A DATE ON ...|            1|\n",
      "|   1|XXXMobileMovieClu...|            1|\n",
      "|   0|Oh k...i'm watchi...|            0|\n",
      "|   0|Eh u remember how...|            0|\n",
      "|   0|Fine if that's th...|            0|\n",
      "|   1|England v Macedon...|            1|\n",
      "+----+--------------------+-------------+\n",
      "only showing top 20 rows\n",
      "\n"
     ]
    }
   ],
   "source": [
    "# create sms_spam3_df below\n",
    "# YOUR CODE HERE\n",
    "\n",
    "sms_spam3_df = sms_spam2_df.withColumn('has_uppercase', \\\n",
    "                                       when(sms_spam2_df.text.rlike('[A-Z]{3,}'),1).otherwise(0))\n",
    "\n",
    "sms_spam3_df.show()"
   ]
  },
  {
   "cell_type": "markdown",
   "metadata": {
    "deletable": false,
    "editable": false,
    "nbgrader": {
     "cell_type": "markdown",
     "checksum": "183aa0776cb5b99dd9e83e0528d03217",
     "grade": false,
     "grade_id": "cell-b62acdccd294ea11",
     "locked": true,
     "schema_version": 3,
     "solution": false,
     "task": false
    }
   },
   "source": [
    "The first three messages with `has_uppercase == 1` are as follows:\n",
    "\n",
    "```python\n",
    "sms_spam3_df.where('has_uppercase == 1').take(3)\n",
    "```\n",
    "\n",
    "```console\n",
    "[Row(type=1, text='WINNER!! As a valued network customer you have been selected to receivea £900 prize reward! To claim call 09061701461. Claim code KL341. Valid 12 hours only.', has_uppercase=1),\n",
    " Row(type=1, text='Had your mobile 11 months or more? U R entitled to Update to the latest colour mobiles with camera for Free! Call The Mobile Update Co FREE on 08002986030', has_uppercase=1),\n",
    " Row(type=1, text='SIX chances to win CASH! From 100 to 20,000 pounds txt> CSH11 and send to 87575. Cost 150p/day, 6days, 16+ TsandCs apply Reply HL 4 info', has_uppercase=1)]\n",
    "```"
   ]
  },
  {
   "cell_type": "code",
   "execution_count": 11,
   "metadata": {
    "deletable": false,
    "editable": false,
    "nbgrader": {
     "cell_type": "code",
     "checksum": "d762f9d5a3e2fae0e7e1ce9a090938e8",
     "grade": false,
     "grade_id": "cell-8ef4beb7de83fd4b",
     "locked": true,
     "schema_version": 3,
     "solution": false,
     "task": false
    }
   },
   "outputs": [
    {
     "data": {
      "text/plain": [
       "[Row(type=1, text='WINNER!! As a valued network customer you have been selected to receivea £900 prize reward! To claim call 09061701461. Claim code KL341. Valid 12 hours only.', has_uppercase=1),\n",
       " Row(type=1, text='Had your mobile 11 months or more? U R entitled to Update to the latest colour mobiles with camera for Free! Call The Mobile Update Co FREE on 08002986030', has_uppercase=1),\n",
       " Row(type=1, text='SIX chances to win CASH! From 100 to 20,000 pounds txt> CSH11 and send to 87575. Cost 150p/day, 6days, 16+ TsandCs apply Reply HL 4 info', has_uppercase=1)]"
      ]
     },
     "execution_count": 11,
     "metadata": {},
     "output_type": "execute_result"
    }
   ],
   "source": [
    "# try it here\n",
    "sms_spam3_df.where('has_uppercase == 1').take(3)"
   ]
  },
  {
   "cell_type": "code",
   "execution_count": 12,
   "metadata": {
    "deletable": false,
    "editable": false,
    "nbgrader": {
     "cell_type": "code",
     "checksum": "1925a0bc030ba4c8ad9c5b39426caefd",
     "grade": true,
     "grade_id": "cell-48ea7a4e9f38040c",
     "locked": true,
     "points": 5,
     "schema_version": 3,
     "solution": false,
     "task": false
    }
   },
   "outputs": [],
   "source": [
    "# (5 pts)\n",
    "np.testing.assert_equal(set(sms_spam3_df.columns), {'has_uppercase', 'text', 'type'})\n",
    "np.testing.assert_equal(type(sms_spam3_df.schema['has_uppercase'].dataType), sql.types.IntegerType)\n",
    "np.testing.assert_equal(sms_spam3_df.rdd.map(lambda x : x['has_uppercase']).sum(), 891)"
   ]
  },
  {
   "cell_type": "markdown",
   "metadata": {
    "deletable": false,
    "editable": false,
    "nbgrader": {
     "cell_type": "markdown",
     "checksum": "f14d4b1f6f7af346a2b83b19d162e5c1",
     "grade": false,
     "grade_id": "cell-234e1ff6aefffd33",
     "locked": true,
     "schema_version": 3,
     "solution": false,
     "task": false
    }
   },
   "source": [
    "# Question 2.4: Compare models\n",
    "\n",
    "Using the following splits:"
   ]
  },
  {
   "cell_type": "code",
   "execution_count": 13,
   "metadata": {
    "deletable": false,
    "editable": false,
    "nbgrader": {
     "cell_type": "code",
     "checksum": "e77619ff80707ea32db4ec2717d9fcfa",
     "grade": false,
     "grade_id": "cell-2631206b3ba12497",
     "locked": true,
     "schema_version": 3,
     "solution": false,
     "task": false
    }
   },
   "outputs": [],
   "source": [
    "training_df, validation_df, testing_df = sms_spam2_df.randomSplit([0.6, 0.3, 0.1], seed=0)"
   ]
  },
  {
   "cell_type": "code",
   "execution_count": 14,
   "metadata": {
    "deletable": false,
    "editable": false,
    "nbgrader": {
     "cell_type": "code",
     "checksum": "193ba2e4521cd91d991c02a489c273c1",
     "grade": false,
     "grade_id": "cell-e0de63de02506054",
     "locked": true,
     "schema_version": 3,
     "solution": false,
     "task": false
    }
   },
   "outputs": [
    {
     "data": {
      "text/plain": [
       "[3311, 1709, 554]"
      ]
     },
     "execution_count": 14,
     "metadata": {},
     "output_type": "execute_result"
    }
   ],
   "source": [
    "[training_df.count(), validation_df.count(), testing_df.count()]"
   ]
  },
  {
   "cell_type": "markdown",
   "metadata": {
    "deletable": false,
    "editable": false,
    "nbgrader": {
     "cell_type": "markdown",
     "checksum": "859fec29e12926ce3c7851508f6d7473",
     "grade": false,
     "grade_id": "cell-81a7e8bdddc53846",
     "locked": true,
     "schema_version": 3,
     "solution": false,
     "task": false
    }
   },
   "source": [
    "**(15 pts)** Create pipelines where the first stage is the `tfidf_pipeline` created above and the second stage is a `LogisticRegression` model with different regularization parameters ($\\lambda$) and elastic net mixture ($\\alpha$) as following:\n",
    "$$\\lambda = [0, 0.02, 0.1] $$\n",
    "$$\\alpha = [0.2, 0.4] $$\n",
    "\n",
    "Try different combinations of $\\lambda$ and $\\alpha$ (6 combinations) to find out best parameters by using the area under the curve as the estimator. Fit those pipelines to the appropriate data split and assign the pipeline with the best model to a variable `best_model`. Also, assign $\\lambda$ and $\\alpha$ of the best model to `best_model_lambda` and `best_model_alpha`.\n",
    "\n",
    "For example, the AUC on training of the first model is perfect:\n",
    "\n",
    "```\n",
    "evaluator.evaluate(lr_pipeline1.transform(training_df))\n",
    "```\n",
    "\n",
    "```console\n",
    "1.0\n",
    "```"
   ]
  },
  {
   "cell_type": "code",
   "execution_count": 42,
   "metadata": {
    "deletable": false,
    "nbgrader": {
     "cell_type": "code",
     "checksum": "30f0ce55dd31e64fd39649be4b8a85d9",
     "grade": false,
     "grade_id": "cell-0402f373b78b9f40",
     "locked": false,
     "schema_version": 3,
     "solution": true,
     "task": false
    }
   },
   "outputs": [
    {
     "name": "stdout",
     "output_type": "stream",
     "text": [
      "best model:  [('regParam', 0.02), ('elasticNetMix', 0.2), ('auc', 0.9900130378096487)]\n"
     ]
    }
   ],
   "source": [
    "# Testing all the combinations of alpha and lambda and assign the best one to `best_model` based on AUC.\n",
    "# YOUR CODE HERE\n",
    "from pyspark.ml.classification import LogisticRegression\n",
    "from pyspark.ml.feature import VectorAssembler\n",
    "from pyspark.ml.evaluation import BinaryClassificationEvaluator \n",
    "\n",
    "\n",
    "# fix tfidf_pipeline so it is a Pipeline, not a PipelineModel fit with entire dataset\n",
    "tfidf_pipeline = Pipeline(stages=[\n",
    "    \n",
    "    Tokenizer(inputCol='text',outputCol='words'),\n",
    "    \n",
    "    CountVectorizer(inputCol='words', outputCol='tf'),\n",
    "    \n",
    "    IDF(inputCol='tf', outputCol='tfidf')])\n",
    "\n",
    "\n",
    "# make pipe function that inputs variable hyperparameters\n",
    "def run_pipe(regParam, enp):\n",
    "    pipe = Pipeline(stages=[\n",
    "        tfidf_pipeline,\n",
    "        LogisticRegression(labelCol='type', \n",
    "                           featuresCol='tfidf',\n",
    "                           regParam= regParam, \n",
    "                           elasticNetParam=enp)])\n",
    "    return pipe\n",
    "\n",
    "# set hyperparameters\n",
    "regParam = [0, .02, .1]\n",
    "enp = [.2,.4]\n",
    "\n",
    "# make list to store results\n",
    "pipes = []\n",
    "\n",
    "# init auc evaluator\n",
    "evaluator = BinaryClassificationEvaluator()\n",
    "evaluator.setLabelCol('type')\n",
    "\n",
    "# iterate through hyperparameters and save their auc score in pipe\n",
    "for l in regParam:\n",
    "    for a in enp:\n",
    "        pipe = run_pipe(l,a)\n",
    "        model = pipe.fit(training_df)\n",
    "        auc = evaluator.evaluate(model.transform(validation_df))\n",
    "        pipes.append([('regParam',l),\n",
    "                      ('elasticNetMix',a),\n",
    "                      ('auc',auc)])\n",
    "\n",
    "# sort list based on auc score high to low\n",
    "pipes.sort(key = lambda x: x[2][1], reverse=True)\n",
    "print('best model: ',pipes[0])\n",
    "\n",
    "# get best model\n",
    "best_model_lambda = pipes[0][0][1] \n",
    "best_model_alpha = pipes[0][1][1]\n",
    "best_model = run_pipe(best_model_lambda, best_model_alpha).fit(training_df)"
   ]
  },
  {
   "cell_type": "code",
   "execution_count": 43,
   "metadata": {},
   "outputs": [
    {
     "name": "stdout",
     "output_type": "stream",
     "text": [
      "CountVectorizerModel: uid=CountVectorizer_d317088abd70, vocabularySize=9868\n"
     ]
    }
   ],
   "source": [
    "print(best_model.stages[0].stages[1] ) # vocabulary size 9868\n"
   ]
  },
  {
   "cell_type": "code",
   "execution_count": 44,
   "metadata": {
    "deletable": false,
    "editable": false,
    "nbgrader": {
     "cell_type": "code",
     "checksum": "558f62343a08e5d105e4c726cac81d89",
     "grade": true,
     "grade_id": "cell-26ba2c28a8128b83",
     "locked": true,
     "points": 15,
     "schema_version": 3,
     "solution": false,
     "task": false
    }
   },
   "outputs": [],
   "source": [
    "# (15 pts)\n",
    "np.testing.assert_equal(type(best_model), pipeline.PipelineModel)\n",
    "\n",
    "np.testing.assert_array_equal([type(s) for s in best_model.stages],\n",
    "                              [pipeline.PipelineModel, classification.LogisticRegressionModel])\n",
    "\n",
    "np.testing.assert_equal(best_model_lambda, 0.02)\n",
    "np.testing.assert_equal(best_model_alpha, 0.2)"
   ]
  },
  {
   "cell_type": "markdown",
   "metadata": {},
   "source": [
    "# Question 2.5: Generalization of best model\n",
    "\n",
    "Using the right split and the best model selected before, compute the generalization performance and assign it to a variable `AUC_best`"
   ]
  },
  {
   "cell_type": "code",
   "execution_count": 45,
   "metadata": {
    "deletable": false,
    "nbgrader": {
     "cell_type": "code",
     "checksum": "ea7e1b7bd7728a0740d64150079a79be",
     "grade": false,
     "grade_id": "cell-a39d41daf0a9fbdf",
     "locked": false,
     "schema_version": 3,
     "solution": true,
     "task": false
    }
   },
   "outputs": [
    {
     "data": {
      "text/plain": [
       "0.982324286708421"
      ]
     },
     "execution_count": 45,
     "metadata": {},
     "output_type": "execute_result"
    }
   ],
   "source": [
    "# assign to AUC_best the AUC of the best model selected before\n",
    "# YOUR CODE HERE\n",
    "\n",
    "AUC_best = evaluator.evaluate(best_model.transform(testing_df))\n",
    "AUC_best"
   ]
  },
  {
   "cell_type": "code",
   "execution_count": 46,
   "metadata": {
    "deletable": false,
    "editable": false,
    "nbgrader": {
     "cell_type": "code",
     "checksum": "451223249c780310c86e4f849cf21c47",
     "grade": true,
     "grade_id": "cell-c9c7380d0127aaa3",
     "locked": true,
     "points": 5,
     "schema_version": 3,
     "solution": false,
     "task": false
    }
   },
   "outputs": [],
   "source": [
    "# (5 pts)\n",
    "np.testing.assert_approx_equal(AUC_best, 0.9883924843423813, significant=2)"
   ]
  },
  {
   "cell_type": "markdown",
   "metadata": {
    "deletable": false,
    "editable": false,
    "nbgrader": {
     "cell_type": "markdown",
     "checksum": "c2accb962a5b3a0a1f256562ac3e6796",
     "grade": false,
     "grade_id": "cell-401a2eb3f9951e7c",
     "locked": true,
     "schema_version": 3,
     "solution": false,
     "task": false
    }
   },
   "source": [
    "Using the same split and the best model, compute and assign `precision`, `recall` and `f1_score`. You should first count the numbers in the confusion matrix, and then compute these metrics based on the formula."
   ]
  },
  {
   "cell_type": "code",
   "execution_count": 74,
   "metadata": {
    "deletable": false,
    "nbgrader": {
     "cell_type": "code",
     "checksum": "d215f5a792d259d1696a46dbc7496433",
     "grade": false,
     "grade_id": "cell-0584bc905b7b24cf",
     "locked": false,
     "schema_version": 3,
     "solution": true,
     "task": false
    }
   },
   "outputs": [
    {
     "name": "stdout",
     "output_type": "stream",
     "text": [
      "[[479.   0.]\n",
      " [ 15.  60.]]\n",
      "1.0 0.8 0.888888888888889\n"
     ]
    }
   ],
   "source": [
    "# YOUR CODE HERE\n",
    "from pyspark.mllib.evaluation import MulticlassMetrics\n",
    "\n",
    "# compute metrics\n",
    "predictionsAndLabels = best_model.transform(testing_df).select('prediction','type').rdd.map(lambda x: (x[0], float(x[1])))\n",
    "\n",
    "metrics = MulticlassMetrics(predictionsAndLabels)\n",
    "\n",
    "cm = metrics.confusionMatrix().toArray()\n",
    "\n",
    "print(cm)\n",
    "\n",
    "precision = metrics.precision(1)\n",
    "\n",
    "recall = metrics.recall(1)\n",
    "\n",
    "f1_score = metrics.fMeasure(1.0, 1.0)\n",
    "\n",
    "print(precision, recall, f1_score)"
   ]
  },
  {
   "cell_type": "code",
   "execution_count": 75,
   "metadata": {
    "deletable": false,
    "editable": false,
    "nbgrader": {
     "cell_type": "code",
     "checksum": "437bd313abaf2e1be0a19a4ac282e196",
     "grade": true,
     "grade_id": "cell-6feadc1a5e40bc0f",
     "locked": true,
     "points": 5,
     "schema_version": 3,
     "solution": false,
     "task": false
    }
   },
   "outputs": [],
   "source": [
    "# (5 pts)\n",
    "np.testing.assert_array_almost_equal([precision, recall, f1_score],\n",
    "    [1.0, 0.7976190476190477, 0.8874172185430463], decimal=2)"
   ]
  },
  {
   "cell_type": "markdown",
   "metadata": {
    "deletable": false,
    "editable": false,
    "nbgrader": {
     "cell_type": "markdown",
     "checksum": "9c9025137952e3c736d816f06ce16126",
     "grade": false,
     "grade_id": "cell-1998be9336b4fd27",
     "locked": true,
     "schema_version": 3,
     "solution": false,
     "task": false
    }
   },
   "source": [
    "# Question 2.6: Inference\n",
    "\n",
    "Use the best pipeline fitted above (`best_model`) to create Pandas dataframes that contain the most negative words and the most positive words. In particular, create a dataframe `positive_words` with the columns `word` and `weight` with the top 20 positive words, sorted by descending coefficient. Similarly create a `negative_words` Pandas dataframe with the top 20 negative words where the coefficient are sorted in ascending order. **Hint: follow the `sentiment_analysis.ipynb` notebook in the repo**"
   ]
  },
  {
   "cell_type": "code",
   "execution_count": 85,
   "metadata": {
    "deletable": false,
    "nbgrader": {
     "cell_type": "code",
     "checksum": "543b279011d3bcaf54625aa57a526352",
     "grade": false,
     "grade_id": "cell-a4ab8b83f44edd98",
     "locked": false,
     "schema_version": 3,
     "solution": true,
     "task": false
    }
   },
   "outputs": [],
   "source": [
    "# create positive_words and negative_words pandas dataframe below\n",
    "\n",
    "vocabulary = best_model.stages[0].stages[1].vocabulary\n",
    "weights    = best_model.stages[-1].coefficients.toArray()\n",
    "\n",
    "coeffs_df = pd.DataFrame({'word': vocabulary, 'weight': weights})\n",
    "\n",
    "positive_words = coeffs_df.sort_values(by=['weight'], ascending=False).head(20)\n",
    "positive_words\n",
    "negative_words = coeffs_df.sort_values(by=['weight'], ascending=True).head(20)"
   ]
  },
  {
   "cell_type": "code",
   "execution_count": 86,
   "metadata": {},
   "outputs": [
    {
     "data": {
      "text/html": [
       "<div>\n",
       "<style scoped>\n",
       "    .dataframe tbody tr th:only-of-type {\n",
       "        vertical-align: middle;\n",
       "    }\n",
       "\n",
       "    .dataframe tbody tr th {\n",
       "        vertical-align: top;\n",
       "    }\n",
       "\n",
       "    .dataframe thead th {\n",
       "        text-align: right;\n",
       "    }\n",
       "</style>\n",
       "<table border=\"1\" class=\"dataframe\">\n",
       "  <thead>\n",
       "    <tr style=\"text-align: right;\">\n",
       "      <th></th>\n",
       "      <th>word</th>\n",
       "      <th>weight</th>\n",
       "    </tr>\n",
       "  </thead>\n",
       "  <tbody>\n",
       "    <tr>\n",
       "      <th>4471</th>\n",
       "      <td>sexy?</td>\n",
       "      <td>0.687893</td>\n",
       "    </tr>\n",
       "    <tr>\n",
       "      <th>2692</th>\n",
       "      <td>widelive.com/index.</td>\n",
       "      <td>0.631896</td>\n",
       "    </tr>\n",
       "    <tr>\n",
       "      <th>8330</th>\n",
       "      <td>08714712388</td>\n",
       "      <td>0.539505</td>\n",
       "    </tr>\n",
       "    <tr>\n",
       "      <th>15</th>\n",
       "      <td>call</td>\n",
       "      <td>0.528276</td>\n",
       "    </tr>\n",
       "    <tr>\n",
       "      <th>164</th>\n",
       "      <td>won</td>\n",
       "      <td>0.502129</td>\n",
       "    </tr>\n",
       "  </tbody>\n",
       "</table>\n",
       "</div>"
      ],
      "text/plain": [
       "                     word    weight\n",
       "4471                sexy?  0.687893\n",
       "2692  widelive.com/index.  0.631896\n",
       "8330          08714712388  0.539505\n",
       "15                   call  0.528276\n",
       "164                   won  0.502129"
      ]
     },
     "execution_count": 86,
     "metadata": {},
     "output_type": "execute_result"
    }
   ],
   "source": [
    "# examine positive vocabulary\n",
    "positive_words.head()"
   ]
  },
  {
   "cell_type": "code",
   "execution_count": 87,
   "metadata": {},
   "outputs": [
    {
     "data": {
      "text/html": [
       "<div>\n",
       "<style scoped>\n",
       "    .dataframe tbody tr th:only-of-type {\n",
       "        vertical-align: middle;\n",
       "    }\n",
       "\n",
       "    .dataframe tbody tr th {\n",
       "        vertical-align: top;\n",
       "    }\n",
       "\n",
       "    .dataframe thead th {\n",
       "        text-align: right;\n",
       "    }\n",
       "</style>\n",
       "<table border=\"1\" class=\"dataframe\">\n",
       "  <thead>\n",
       "    <tr style=\"text-align: right;\">\n",
       "      <th></th>\n",
       "      <th>word</th>\n",
       "      <th>weight</th>\n",
       "    </tr>\n",
       "  </thead>\n",
       "  <tbody>\n",
       "    <tr>\n",
       "      <th>1</th>\n",
       "      <td>i</td>\n",
       "      <td>-0.183502</td>\n",
       "    </tr>\n",
       "    <tr>\n",
       "      <th>3234</th>\n",
       "      <td>fightng</td>\n",
       "      <td>-0.077429</td>\n",
       "    </tr>\n",
       "    <tr>\n",
       "      <th>2389</th>\n",
       "      <td>dificult</td>\n",
       "      <td>-0.077429</td>\n",
       "    </tr>\n",
       "    <tr>\n",
       "      <th>3141</th>\n",
       "      <td>lose.</td>\n",
       "      <td>-0.077429</td>\n",
       "    </tr>\n",
       "    <tr>\n",
       "      <th>11</th>\n",
       "      <td>me</td>\n",
       "      <td>-0.068350</td>\n",
       "    </tr>\n",
       "  </tbody>\n",
       "</table>\n",
       "</div>"
      ],
      "text/plain": [
       "          word    weight\n",
       "1            i -0.183502\n",
       "3234   fightng -0.077429\n",
       "2389  dificult -0.077429\n",
       "3141     lose. -0.077429\n",
       "11          me -0.068350"
      ]
     },
     "execution_count": 87,
     "metadata": {},
     "output_type": "execute_result"
    }
   ],
   "source": [
    "# examine solutions\n",
    "negative_words.head()"
   ]
  },
  {
   "cell_type": "markdown",
   "metadata": {
    "deletable": false,
    "editable": false,
    "nbgrader": {
     "cell_type": "markdown",
     "checksum": "e52fc9e300ae0de22cac8c1d2bb9b3bb",
     "grade": false,
     "grade_id": "cell-768b16040bab3cdb",
     "locked": true,
     "schema_version": 3,
     "solution": false,
     "task": false
    }
   },
   "source": [
    "The `positive_words` and `negative_words` dataframe should look like this:\n",
    "\n",
    "```python\n",
    "positive_words.head()\n",
    "```\n",
    "\n",
    "<table border=\"1\" class=\"dataframe\">\n",
    "  <thead>\n",
    "    <tr style=\"text-align: right;\">\n",
    "      <th></th>\n",
    "      <th>word</th>\n",
    "      <th>weight</th>\n",
    "    </tr>\n",
    "  </thead>\n",
    "  <tbody>\n",
    "    <tr>\n",
    "      <th>7263</th>\n",
    "      <td>sexy?</td>\n",
    "      <td>0.642738</td>\n",
    "    </tr>\n",
    "    <tr>\n",
    "      <th>3555</th>\n",
    "      <td>widelive.com/index.</td>\n",
    "      <td>0.588182</td>\n",
    "    </tr>\n",
    "    <tr>\n",
    "      <th>15</th>\n",
    "      <td>call</td>\n",
    "      <td>0.537161</td>\n",
    "    </tr>\n",
    "    <tr>\n",
    "      <th>12237\t\t</th>\n",
    "      <td>08714712388</td>\n",
    "      <td>0.504090</td>\n",
    "    </tr>\n",
    "    <tr>\n",
    "      <th>81</th>\n",
    "      <td>txt</td>\n",
    "      <td>0.495005</td>\n",
    "    </tr>\n",
    "  </tbody>\n",
    "</table>\n",
    "\n",
    "and \n",
    "\n",
    "```python\n",
    "negative_words.head()\n",
    "```\n",
    "\n",
    "<table border=\"1\" class=\"dataframe\">\n",
    "  <thead>\n",
    "    <tr style=\"text-align: right;\">\n",
    "      <th></th>\n",
    "      <th>word</th>\n",
    "      <th>weight</th>\n",
    "    </tr>\n",
    "  </thead>\n",
    "  <tbody>\n",
    "    <tr>\n",
    "      <th>1</th>\n",
    "      <td>i</td>\n",
    "      <td>-0.183463</td>\n",
    "    </tr>\n",
    "    <tr>\n",
    "      <th>3332</th>\n",
    "      <td>lose.</td>\n",
    "      <td>-0.074937</td>\n",
    "    </tr>\n",
    "    <tr>\n",
    "      <th>3371</th>\n",
    "      <td>fightng</td>\n",
    "      <td>-0.074937</td>\n",
    "    </tr>\n",
    "    <tr>\n",
    "      <th>3221</th>\n",
    "      <td>dificult</td>\n",
    "      <td>-0.074937</td>\n",
    "    </tr>\n",
    "    <tr>\n",
    "      <th>13</th>\n",
    "      <td>me</td>\n",
    "      <td>-0.065904</td>\n",
    "    </tr>\n",
    "  </tbody>\n",
    "</table>"
   ]
  },
  {
   "cell_type": "code",
   "execution_count": 88,
   "metadata": {
    "deletable": false,
    "editable": false,
    "nbgrader": {
     "cell_type": "code",
     "checksum": "f178fb76b9c4fa0a0381626e33bd5572",
     "grade": true,
     "grade_id": "cell-8893a62881db3a6e",
     "locked": true,
     "points": 5,
     "schema_version": 3,
     "solution": false,
     "task": false
    }
   },
   "outputs": [],
   "source": [
    "# (5 pts)\n",
    "np.testing.assert_equal(set(positive_words.columns), {'weight', 'word'})\n",
    "np.testing.assert_equal(set(negative_words.columns), {'weight', 'word'})\n",
    "np.testing.assert_approx_equal(positive_words.weight.sum(), 8.675741267346245, significant=1)\n",
    "np.testing.assert_approx_equal(negative_words.weight.sum(), -0.7292131526997235, significant=1)\n",
    "np.testing.assert_array_less(positive_words.weight.iloc[-1], positive_words.weight.iloc[0])\n",
    "np.testing.assert_array_less(negative_words.weight.iloc[0], negative_words.weight.iloc[-1])"
   ]
  },
  {
   "cell_type": "markdown",
   "metadata": {
    "deletable": false,
    "editable": false,
    "nbgrader": {
     "cell_type": "markdown",
     "checksum": "a117cd78874726c39a69e7b5e79ba76d",
     "grade": false,
     "grade_id": "cell-342e622b6b0900cc",
     "locked": true,
     "schema_version": 3,
     "solution": false,
     "task": false
    }
   },
   "source": [
    "# Question 2.7\n",
    "Use the dataframe `sms_spam3_df` to create a model where the first feature is `has_uppercase` and the next set of features are the tfidf of the text. Perform feature engineering in all features using a max absolute scaler ([`MaxAbsScaler`](https://spark.apache.org/docs/2.0.2/ml-features.html#maxabsscaler)). Do a logistic regression on the resulting scaled features with regularization parameter $\\lambda = 0.2$ and elastic net mixture $\\alpha=0.1$ for the entire data (all of `sms_spam3_df`). Since you have scaled all features to be within the same range, you can compare them. \n",
    "\n",
    "**(5 pts)** with code and comments, answer below\n",
    "\n",
    "1. is `has_uppercase` a feature that is positively or negative related to an SMS being spam?\n",
    "2. what is the ratio of the coefficient of `has_uppercase` to the biggest positive tfidf coefficient?"
   ]
  },
  {
   "cell_type": "code",
   "execution_count": 129,
   "metadata": {
    "deletable": false,
    "nbgrader": {
     "cell_type": "code",
     "checksum": "4eb4f1efc36f0c6ad437acdc9a744a51",
     "grade": true,
     "grade_id": "cell-ea94732643cb73ff",
     "locked": false,
     "points": 5,
     "schema_version": 3,
     "solution": true,
     "task": false
    }
   },
   "outputs": [
    {
     "name": "stdout",
     "output_type": "stream",
     "text": [
      "         word    weight\n",
      "15       call  2.011949\n",
      "81        txt  1.580207\n",
      "68       text  1.453053\n",
      "96     mobile  1.439059\n",
      "109     claim  1.378177\n",
      "108         &  1.338472\n",
      "167       win  1.317322\n",
      "55       free  1.269747\n",
      "95      reply  1.095526\n",
      "101      stop  1.004069\n",
      "0          to  0.917446\n",
      "11       your  0.874955\n",
      "233      chat  0.861721\n",
      "178      cash  0.802828\n",
      "448     tones  0.736775\n",
      "153      now!  0.722393\n",
      "275      tone  0.691631\n",
      "288   receive  0.687651\n",
      "541  delivery  0.687348\n",
      "223   service  0.659367 \n",
      "Has uppercase weight:  0.9289178747599827\n",
      "\n",
      "Top word vs. has_uppercase:  0.4617005798337619\n"
     ]
    },
    {
     "data": {
      "text/plain": [
       "\"\\n1. the has_uppercase feature is positively associated with being spam.\\n2. the ratio of the has_uppercase weight compared to the biggest tfidf coefficient is .46, which means that the has_uppercase\\n    weight is less than half as strong of an indicator of spam compared to the presence of the word 'call'.\\n\""
      ]
     },
     "execution_count": 129,
     "metadata": {},
     "output_type": "execute_result"
    }
   ],
   "source": [
    "# your code and comments below\n",
    "from pyspark.ml.feature import MaxAbsScaler\n",
    "\n",
    "pipe2 = Pipeline(stages=[\n",
    "    tfidf_pipeline,\n",
    "    VectorAssembler(inputCols=['has_uppercase','tfidf'], outputCol='caseAndTFIDF'),\n",
    "    MaxAbsScaler(inputCol='caseAndTFIDF',outputCol='features'),\n",
    "    LogisticRegression(regParam=.2, elasticNetParam=.1, labelCol='type')\n",
    "])\n",
    "\n",
    "model2 = pipe2.fit(sms_spam3_df)\n",
    "\n",
    "vocabulary2= model2.stages[0].stages[1].vocabulary\n",
    "weights2   = model2.stages[-1].coefficients.toArray()[1:]\n",
    "has_uppercase_weight = model2.stages[-1].coefficients[0]\n",
    "\n",
    "coeffs2_df =  pd.DataFrame({'word': vocabulary2, 'weight': weights2})\n",
    "\n",
    "spammy_words = coeffs2_df.sort_values(by=['weight'], ascending=False).head(20)\n",
    "not_spammy_words = coeffs2_df.sort_values(by=['weight'], ascending=True).head(20)\n",
    "\n",
    "print(spammy_words,'\\nHas uppercase weight: ', has_uppercase_weight)\n",
    "\n",
    "print('\\nTop word vs. has_uppercase: ',has_uppercase_weight / spammy_words.reset_index().weight[0])\n",
    "\n",
    "'''\n",
    "1. the has_uppercase feature is positively associated with being spam.\n",
    "2. the ratio of the has_uppercase weight compared to the biggest tfidf coefficient is .46, which means that the has_uppercase\n",
    "    weight is less than half as strong of an indicator of spam compared to the presence of the word 'call'.\n",
    "'''"
   ]
  }
 ],
 "metadata": {
  "kernelspec": {
   "display_name": "Python 3",
   "language": "python",
   "name": "python3"
  },
  "language_info": {
   "codemirror_mode": {
    "name": "ipython",
    "version": 3
   },
   "file_extension": ".py",
   "mimetype": "text/x-python",
   "name": "python",
   "nbconvert_exporter": "python",
   "pygments_lexer": "ipython3",
   "version": "3.8.8"
  },
  "latex_envs": {
   "LaTeX_envs_menu_present": true,
   "autoclose": false,
   "autocomplete": true,
   "bibliofile": "biblio.bib",
   "cite_by": "apalike",
   "current_citInitial": 1,
   "eqLabelWithNumbers": true,
   "eqNumInitial": 1,
   "hotkeys": {
    "equation": "Ctrl-E",
    "itemize": "Ctrl-I"
   },
   "labels_anchors": false,
   "latex_user_defs": false,
   "report_style_numbering": false,
   "user_envs_cfg": false
  },
  "toc": {
   "base_numbering": 1,
   "nav_menu": {},
   "number_sections": true,
   "sideBar": true,
   "skip_h1_title": false,
   "title_cell": "Table of Contents",
   "title_sidebar": "Contents",
   "toc_cell": false,
   "toc_position": {},
   "toc_section_display": true,
   "toc_window_display": false
  }
 },
 "nbformat": 4,
 "nbformat_minor": 4
}
