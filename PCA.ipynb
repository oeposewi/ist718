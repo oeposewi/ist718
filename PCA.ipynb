{
 "cells": [
  {
   "cell_type": "markdown",
   "metadata": {
    "deletable": false,
    "editable": false,
    "nbgrader": {
     "cell_type": "markdown",
     "checksum": "a78d93effa85ac1fca2a197555f87eec",
     "grade": false,
     "grade_id": "cell-7070b477be2632ac",
     "locked": true,
     "schema_version": 3,
     "solution": false,
     "task": false
    }
   },
   "source": [
    "# IST 718: Big Data Analytics\n",
    "\n",
    "- Professor: Daniel Acuna <deacuna@syr.edu>\n",
    "\n",
    "## General instructions:\n",
    "\n",
    "- You are welcome to discuss the problems with your classmates but __you are not allowed to copy any part of your answers either from your classmates or from the internet__\n",
    "- You can put the homework files anywhere you want in your https://jupyterhub.ischool.syr.edu/ workspace but _do not change_ the file names. The TAs and the professor use these names to grade your homework.\n",
    "- Remove or comment out code that contains `raise NotImplementedError`. This is mainly to make the `assert` statement fail if nothing is submitted.\n",
    "- The tests shown in some cells (i.e., `assert` and `np.testing.` statements) are used to grade your answers. **However, the professor and TAs will use __additional__ test for your answer. Think about cases where your code should run even if it passess all the tests you see.**\n",
    "- Before downloading and submitting your work through Blackboard, remember to save and press `Validate` (or go to \n",
    "`Kernel`$\\rightarrow$`Restart and Run All`). \n",
    "- Good luck!"
   ]
  },
  {
   "cell_type": "code",
   "execution_count": 1,
   "metadata": {
    "deletable": false,
    "editable": false,
    "nbgrader": {
     "cell_type": "code",
     "checksum": "7ee1f9f3c5ad1d3dbc2fd8190dd3682f",
     "grade": false,
     "grade_id": "cell-2552baebbd857fc0",
     "locked": true,
     "schema_version": 3,
     "solution": false,
     "task": false
    }
   },
   "outputs": [],
   "source": [
    "# Load the packages needed for this part\n",
    "# create spark and sparkcontext objects\n",
    "from pyspark.sql import SparkSession\n",
    "import numpy as np\n",
    "\n",
    "spark = SparkSession.builder.getOrCreate()\n",
    "sc = spark.sparkContext\n",
    "\n",
    "from pyspark.ml import feature, regression, Pipeline, pipeline\n",
    "from pyspark.sql import types, Row, functions as fn\n",
    "from pyspark import sql\n",
    "import pandas as pd\n",
    "import matplotlib.pyplot as plt"
   ]
  },
  {
   "cell_type": "markdown",
   "metadata": {
    "deletable": false,
    "editable": false,
    "nbgrader": {
     "cell_type": "markdown",
     "checksum": "a0d47acdb217726c9109224b420b5be3",
     "grade": false,
     "grade_id": "cell-c841435f1983f29f",
     "locked": true,
     "schema_version": 3,
     "solution": false,
     "task": false
    }
   },
   "source": [
    "# Part 1: PCA and feature engineering"
   ]
  },
  {
   "cell_type": "markdown",
   "metadata": {
    "deletable": false,
    "editable": false,
    "nbgrader": {
     "cell_type": "markdown",
     "checksum": "3a6b009df652914ac287acb6a4826fa0",
     "grade": false,
     "grade_id": "cell-426b42289f2cf1e1",
     "locked": true,
     "schema_version": 3,
     "solution": false,
     "task": false
    }
   },
   "source": [
    "The government of Syracuse is trying to understand how to better keep its streets in good condition. Luckily, they have a datset obtained from patching said streets. Using this dataset, they want to easily visualize the characteristics of the city."
   ]
  },
  {
   "cell_type": "code",
   "execution_count": 2,
   "metadata": {
    "deletable": false,
    "editable": false,
    "nbgrader": {
     "cell_type": "code",
     "checksum": "cafa700d8c53c5dcdcd80dce8a4bf916",
     "grade": false,
     "grade_id": "cell-baa72903454c0f25",
     "locked": true,
     "schema_version": 3,
     "solution": false,
     "task": false
    }
   },
   "outputs": [],
   "source": [
    "# load the data\n",
    "syracuse_streets = spark.read.json(\"syracuse.json.gz\")"
   ]
  },
  {
   "cell_type": "markdown",
   "metadata": {
    "deletable": false,
    "editable": false,
    "nbgrader": {
     "cell_type": "markdown",
     "checksum": "349dc0a5bac30a0afbb378180177b7ad",
     "grade": false,
     "grade_id": "cell-f77095514add2e50",
     "locked": true,
     "schema_version": 3,
     "solution": false,
     "task": false
    }
   },
   "source": [
    "In particular, the city is interested in understanding the following features:\n",
    "\n",
    "- `Latitude` \n",
    "- `Longitude`\n",
    "- `crack`: number of cracks on the street (visually inspected)\n",
    "- `patch`: number of patches on the street (visually inspected)\n",
    "- `pavement`: quality of the pavement\n",
    "- `length`: street length\n",
    "- `width`: street width"
   ]
  },
  {
   "cell_type": "code",
   "execution_count": 3,
   "metadata": {},
   "outputs": [
    {
     "data": {
      "text/html": [
       "<div>\n",
       "<style scoped>\n",
       "    .dataframe tbody tr th:only-of-type {\n",
       "        vertical-align: middle;\n",
       "    }\n",
       "\n",
       "    .dataframe tbody tr th {\n",
       "        vertical-align: top;\n",
       "    }\n",
       "\n",
       "    .dataframe thead th {\n",
       "        text-align: right;\n",
       "    }\n",
       "</style>\n",
       "<table border=\"1\" class=\"dataframe\">\n",
       "  <thead>\n",
       "    <tr style=\"text-align: right;\">\n",
       "      <th></th>\n",
       "      <th>Latitude</th>\n",
       "      <th>Longitude</th>\n",
       "      <th>crack</th>\n",
       "      <th>patch</th>\n",
       "      <th>pavement</th>\n",
       "      <th>length</th>\n",
       "      <th>width</th>\n",
       "    </tr>\n",
       "  </thead>\n",
       "  <tbody>\n",
       "    <tr>\n",
       "      <th>0</th>\n",
       "      <td>-76.152482</td>\n",
       "      <td>42.997837</td>\n",
       "      <td>3</td>\n",
       "      <td>4</td>\n",
       "      <td>3</td>\n",
       "      <td>1064</td>\n",
       "      <td>27</td>\n",
       "    </tr>\n",
       "    <tr>\n",
       "      <th>1</th>\n",
       "      <td>-76.152482</td>\n",
       "      <td>42.997837</td>\n",
       "      <td>4</td>\n",
       "      <td>5</td>\n",
       "      <td>3</td>\n",
       "      <td>1064</td>\n",
       "      <td>27</td>\n",
       "    </tr>\n",
       "    <tr>\n",
       "      <th>2</th>\n",
       "      <td>-76.152482</td>\n",
       "      <td>42.997837</td>\n",
       "      <td>4</td>\n",
       "      <td>4</td>\n",
       "      <td>3</td>\n",
       "      <td>1064</td>\n",
       "      <td>27</td>\n",
       "    </tr>\n",
       "    <tr>\n",
       "      <th>3</th>\n",
       "      <td>-76.152482</td>\n",
       "      <td>42.997837</td>\n",
       "      <td>3</td>\n",
       "      <td>4</td>\n",
       "      <td>3</td>\n",
       "      <td>1064</td>\n",
       "      <td>27</td>\n",
       "    </tr>\n",
       "    <tr>\n",
       "      <th>4</th>\n",
       "      <td>-76.152482</td>\n",
       "      <td>42.997837</td>\n",
       "      <td>4</td>\n",
       "      <td>2</td>\n",
       "      <td>3</td>\n",
       "      <td>1064</td>\n",
       "      <td>27</td>\n",
       "    </tr>\n",
       "    <tr>\n",
       "      <th>5</th>\n",
       "      <td>-76.152482</td>\n",
       "      <td>42.997837</td>\n",
       "      <td>4</td>\n",
       "      <td>5</td>\n",
       "      <td>3</td>\n",
       "      <td>1064</td>\n",
       "      <td>27</td>\n",
       "    </tr>\n",
       "    <tr>\n",
       "      <th>6</th>\n",
       "      <td>-76.152482</td>\n",
       "      <td>42.997837</td>\n",
       "      <td>4</td>\n",
       "      <td>4</td>\n",
       "      <td>3</td>\n",
       "      <td>1064</td>\n",
       "      <td>27</td>\n",
       "    </tr>\n",
       "    <tr>\n",
       "      <th>7</th>\n",
       "      <td>-76.152482</td>\n",
       "      <td>42.997837</td>\n",
       "      <td>4</td>\n",
       "      <td>4</td>\n",
       "      <td>3</td>\n",
       "      <td>1064</td>\n",
       "      <td>27</td>\n",
       "    </tr>\n",
       "    <tr>\n",
       "      <th>8</th>\n",
       "      <td>-76.152482</td>\n",
       "      <td>42.997837</td>\n",
       "      <td>3</td>\n",
       "      <td>2</td>\n",
       "      <td>3</td>\n",
       "      <td>1064</td>\n",
       "      <td>27</td>\n",
       "    </tr>\n",
       "    <tr>\n",
       "      <th>9</th>\n",
       "      <td>-76.159402</td>\n",
       "      <td>43.048630</td>\n",
       "      <td>4</td>\n",
       "      <td>5</td>\n",
       "      <td>6</td>\n",
       "      <td>650</td>\n",
       "      <td>34</td>\n",
       "    </tr>\n",
       "  </tbody>\n",
       "</table>\n",
       "</div>"
      ],
      "text/plain": [
       "    Latitude  Longitude  crack  patch  pavement  length  width\n",
       "0 -76.152482  42.997837      3      4         3    1064     27\n",
       "1 -76.152482  42.997837      4      5         3    1064     27\n",
       "2 -76.152482  42.997837      4      4         3    1064     27\n",
       "3 -76.152482  42.997837      3      4         3    1064     27\n",
       "4 -76.152482  42.997837      4      2         3    1064     27\n",
       "5 -76.152482  42.997837      4      5         3    1064     27\n",
       "6 -76.152482  42.997837      4      4         3    1064     27\n",
       "7 -76.152482  42.997837      4      4         3    1064     27\n",
       "8 -76.152482  42.997837      3      2         3    1064     27\n",
       "9 -76.159402  43.048630      4      5         6     650     34"
      ]
     },
     "execution_count": 3,
     "metadata": {},
     "output_type": "execute_result"
    }
   ],
   "source": [
    "# take a look at the numerical features\n",
    "syracuse_streets.select(['Latitude', \n",
    "               'Longitude', \n",
    "               'crack', \n",
    "               'patch',  \n",
    "               'pavement',\n",
    "               'length', \n",
    "               'width']).limit(10).toPandas()"
   ]
  },
  {
   "cell_type": "markdown",
   "metadata": {
    "deletable": false,
    "editable": false,
    "nbgrader": {
     "cell_type": "markdown",
     "checksum": "f1bade042908c79a82d3958f09fdf69a",
     "grade": false,
     "grade_id": "cell-a646caf3d703079a",
     "locked": true,
     "schema_version": 3,
     "solution": false,
     "task": false
    }
   },
   "source": [
    "For some of the questions, you will use the following user-defined function that transforms a vector into an array."
   ]
  },
  {
   "cell_type": "code",
   "execution_count": 4,
   "metadata": {
    "deletable": false,
    "editable": false,
    "nbgrader": {
     "cell_type": "code",
     "checksum": "885e77419b21d23a5c5ecc4f667a6354",
     "grade": false,
     "grade_id": "cell-42ff62379ad35f85",
     "locked": true,
     "schema_version": 3,
     "solution": false,
     "task": false
    }
   },
   "outputs": [],
   "source": [
    "@fn.udf(returnType=types.ArrayType(types.FloatType()))\n",
    "def to_array(col):\n",
    "    return col.toArray().tolist()"
   ]
  },
  {
   "cell_type": "markdown",
   "metadata": {
    "deletable": false,
    "editable": false,
    "nbgrader": {
     "cell_type": "markdown",
     "checksum": "17f5149f854ec27e67d4475921cc7091",
     "grade": false,
     "grade_id": "cell-210b6772647bea10",
     "locked": true,
     "schema_version": 3,
     "solution": false,
     "task": false
    }
   },
   "source": [
    "For example, suppose you have latitude and longitude as a column of type vector. The way Spark encodes vectors is different from arrays and therefore they are not easy to manipulable. The above function allows you to transform a vector into an array for easy manipulation"
   ]
  },
  {
   "cell_type": "code",
   "execution_count": 5,
   "metadata": {
    "deletable": false,
    "editable": false,
    "nbgrader": {
     "cell_type": "code",
     "checksum": "4aaa624720eb9eebd7a98c89bf63dce2",
     "grade": false,
     "grade_id": "cell-3c85bc18be3f6748",
     "locked": true,
     "schema_version": 3,
     "solution": false,
     "task": false
    }
   },
   "outputs": [
    {
     "name": "stdout",
     "output_type": "stream",
     "text": [
      "+--------------------+\n",
      "|      feature_vector|\n",
      "+--------------------+\n",
      "|[-76.1524819382,4...|\n",
      "|[-76.1524819382,4...|\n",
      "|[-76.1524819382,4...|\n",
      "|[-76.1524819382,4...|\n",
      "|[-76.1524819382,4...|\n",
      "+--------------------+\n",
      "only showing top 5 rows\n",
      "\n"
     ]
    }
   ],
   "source": [
    "(feature\n",
    " .VectorAssembler(inputCols=['Latitude', 'Longitude'], outputCol='feature_vector')\n",
    " .transform(syracuse_streets)\n",
    " .select('feature_vector')\n",
    " .show(5)\n",
    ")"
   ]
  },
  {
   "cell_type": "markdown",
   "metadata": {
    "deletable": false,
    "editable": false,
    "nbgrader": {
     "cell_type": "markdown",
     "checksum": "b3e48d48397e8dcaf72bd1a3275ee2f2",
     "grade": false,
     "grade_id": "cell-09159311689eebdd",
     "locked": true,
     "schema_version": 3,
     "solution": false,
     "task": false
    }
   },
   "source": [
    "For example, we can take apart pieces of the array using `fn.expr('feature_array[i]')` notation to extract the ith element:"
   ]
  },
  {
   "cell_type": "code",
   "execution_count": 6,
   "metadata": {
    "deletable": false,
    "editable": false,
    "nbgrader": {
     "cell_type": "code",
     "checksum": "45dd1e0f76554236a827f76ee4db76ae",
     "grade": false,
     "grade_id": "cell-6fdd5f7e34a74953",
     "locked": true,
     "schema_version": 3,
     "solution": false,
     "task": false
    }
   },
   "outputs": [
    {
     "name": "stdout",
     "output_type": "stream",
     "text": [
      "+---------+---------+\n",
      "| latitude|longitude|\n",
      "+---------+---------+\n",
      "|-76.15248|42.997837|\n",
      "|-76.15248|42.997837|\n",
      "|-76.15248|42.997837|\n",
      "|-76.15248|42.997837|\n",
      "|-76.15248|42.997837|\n",
      "+---------+---------+\n",
      "only showing top 5 rows\n",
      "\n"
     ]
    }
   ],
   "source": [
    "(feature\n",
    " .VectorAssembler(inputCols=['Latitude', 'Longitude'], outputCol='feature_vector')\n",
    " .transform(syracuse_streets)\n",
    " .select(to_array('feature_vector').alias('feature_array'))\n",
    " .select(fn.expr('feature_array[0]').alias('latitude'), \n",
    "         fn.expr('feature_array[1]').alias('longitude'))\n",
    " .show(5)\n",
    ")"
   ]
  },
  {
   "cell_type": "markdown",
   "metadata": {
    "deletable": false,
    "editable": false,
    "nbgrader": {
     "cell_type": "markdown",
     "checksum": "b7cf80debd0a57fa4f835e7dc75555cb",
     "grade": false,
     "grade_id": "cell-e9debbdcfaac4bdc",
     "locked": true,
     "schema_version": 3,
     "solution": false,
     "task": false
    }
   },
   "source": [
    "You can do a lot more things with arrays. Take a look at https://sparkbyexamples.com/spark/spark-sql-array-functions/"
   ]
  },
  {
   "cell_type": "markdown",
   "metadata": {
    "deletable": false,
    "editable": false,
    "nbgrader": {
     "cell_type": "markdown",
     "checksum": "e7e06288508d4f11d74c1ac2570b2b66",
     "grade": false,
     "grade_id": "cell-702b9a759ce6ef99",
     "locked": true,
     "schema_version": 3,
     "solution": false,
     "task": false
    }
   },
   "source": [
    "## Question 1: (30 pts) Simple PCA\n",
    "\n",
    "In this question, you will perform PCA to understand and visualize the data. You will analyze the features `Latitude`, `Longitude`, `crack`, `patch`,  `pavement`, `length`, and `width`."
   ]
  },
  {
   "cell_type": "code",
   "execution_count": 7,
   "metadata": {
    "deletable": false,
    "editable": false,
    "nbgrader": {
     "cell_type": "code",
     "checksum": "84266b81ec07c7d38d18fd6481a224ad",
     "grade": false,
     "grade_id": "cell-fa4a9594a71d6b27",
     "locked": true,
     "schema_version": 3,
     "solution": false,
     "task": false
    }
   },
   "outputs": [],
   "source": [
    "feature_list = ['Latitude', \n",
    "               'Longitude', \n",
    "               'crack', \n",
    "               'patch',  \n",
    "               'pavement',\n",
    "               'length', \n",
    "               'width']"
   ]
  },
  {
   "cell_type": "markdown",
   "metadata": {
    "deletable": false,
    "editable": false,
    "nbgrader": {
     "cell_type": "markdown",
     "checksum": "5eab0ff03c57e880f6e5a3b0fee6eb44",
     "grade": false,
     "grade_id": "cell-1e5eb1ce37c852a7",
     "locked": true,
     "schema_version": 3,
     "solution": false,
     "task": false
    }
   },
   "source": [
    "In the cell below, create a pipeline model (i.e., fitted pipeline) called `pca_2d` that takes the features above and projects them into **two** principal components. Before fitting the PCA model, make sure to **standardized** your data (i.e., center **and** divide by standard deviation) using `feature.StandardScaler`. Make sure the PCA part of the model generates an output column called `pc`."
   ]
  },
  {
   "cell_type": "code",
   "execution_count": 8,
   "metadata": {
    "deletable": false,
    "nbgrader": {
     "cell_type": "code",
     "checksum": "dcd8d01982304261ca8e89f7fb071fff",
     "grade": false,
     "grade_id": "cell-42f23e41b0dd075a",
     "locked": false,
     "schema_version": 3,
     "solution": true,
     "task": false
    }
   },
   "outputs": [],
   "source": [
    "# create pipeline to produce principal components of data\n",
    "# YOUR CODE HERE\n",
    "\n",
    "pca_2d = Pipeline(stages = [\n",
    "    feature.VectorAssembler(inputCols=feature_list,\n",
    "                           outputCol='features'),\n",
    "    feature.StandardScaler(withMean=True,\n",
    "                          inputCol='features',\n",
    "                          outputCol='zfeatures'),\n",
    "    feature.PCA(k=2, inputCol='zfeatures',outputCol='pc')\n",
    "]).fit(syracuse_streets)"
   ]
  },
  {
   "cell_type": "markdown",
   "metadata": {
    "deletable": false,
    "editable": false,
    "nbgrader": {
     "cell_type": "markdown",
     "checksum": "29eba9e5d515d192d8ff16be92f1235e",
     "grade": false,
     "grade_id": "cell-4e38faac0adbdea4",
     "locked": true,
     "schema_version": 3,
     "solution": false,
     "task": false
    }
   },
   "source": [
    "Check that the fitted pipeline works:"
   ]
  },
  {
   "cell_type": "code",
   "execution_count": 9,
   "metadata": {
    "deletable": false,
    "editable": false,
    "nbgrader": {
     "cell_type": "code",
     "checksum": "8e4ff917037d02bf269b5468fe864dce",
     "grade": false,
     "grade_id": "cell-36eae5f7715b6863",
     "locked": true,
     "schema_version": 3,
     "solution": false,
     "task": false
    }
   },
   "outputs": [
    {
     "name": "stdout",
     "output_type": "stream",
     "text": [
      "+--------------+-------------+-----+-----+--------+------+-----+--------------------+\n",
      "|      Latitude|    Longitude|crack|patch|pavement|length|width|                  pc|\n",
      "+--------------+-------------+-----+-----+--------+------+-----+--------------------+\n",
      "|-76.1524819382|42.9978369009|    3|    4|       3|  1064|   27|[-1.7991028261303...|\n",
      "|-76.1524819382|42.9978369009|    4|    5|       3|  1064|   27|[-1.5125989958525...|\n",
      "|-76.1524819382|42.9978369009|    4|    4|       3|  1064|   27|[-1.6656924808867...|\n",
      "|-76.1524819382|42.9978369009|    3|    4|       3|  1064|   27|[-1.7991028261303...|\n",
      "|-76.1524819382|42.9978369009|    4|    2|       3|  1064|   27|[-1.9718794509550...|\n",
      "+--------------+-------------+-----+-----+--------+------+-----+--------------------+\n",
      "only showing top 5 rows\n",
      "\n"
     ]
    }
   ],
   "source": [
    "pca_2d.transform(syracuse_streets).select(feature_list + ['pc']).show(5)"
   ]
  },
  {
   "cell_type": "code",
   "execution_count": 10,
   "metadata": {
    "deletable": false,
    "editable": false,
    "nbgrader": {
     "cell_type": "code",
     "checksum": "58ef87971670b2eedb35e184956e8b91",
     "grade": true,
     "grade_id": "cell-2ad4d5e0c8ba310f",
     "locked": true,
     "points": 15,
     "schema_version": 3,
     "solution": false,
     "task": false
    }
   },
   "outputs": [],
   "source": [
    "# 15 pts\n",
    "assert type(pca_2d) == pipeline.PipelineModel\n",
    "assert type(pca_2d.stages[-1]) == feature.PCAModel\n",
    "assert set(pca_2d.stages[0].extractParamMap()[(pca_2d.stages[0].inputCols)]) == \\\n",
    " {'Longitude', 'Latitude', 'crack', 'patch', 'pavement', 'length', 'width'}\n",
    "assert feature.StandardScalerModel in list(map(type, pca_2d.stages))"
   ]
  },
  {
   "cell_type": "markdown",
   "metadata": {
    "deletable": false,
    "editable": false,
    "nbgrader": {
     "cell_type": "markdown",
     "checksum": "a39a0633ec9570dbda237243692aa8e7",
     "grade": false,
     "grade_id": "cell-af4cd18c5dc28143",
     "locked": true,
     "schema_version": 3,
     "solution": false,
     "task": false
    }
   },
   "source": [
    "Now, let's visualize the principal components. Create a Pandas dataframe that contains the `Longitude`, PC 1 (name it `pc1`), and PC 2 (name it `pc2`). You should use the udf `to_array` defined above to pluck the first and second component of the principal component into their own columns. Call this pandas dataframe `syracuse_2d`."
   ]
  },
  {
   "cell_type": "code",
   "execution_count": 11,
   "metadata": {
    "deletable": false,
    "nbgrader": {
     "cell_type": "code",
     "checksum": "9009dc4d2d825b88ae7d45c330478929",
     "grade": false,
     "grade_id": "cell-22e538c551ea8478",
     "locked": false,
     "schema_version": 3,
     "solution": true,
     "task": false
    }
   },
   "outputs": [
    {
     "data": {
      "text/html": [
       "<div>\n",
       "<style scoped>\n",
       "    .dataframe tbody tr th:only-of-type {\n",
       "        vertical-align: middle;\n",
       "    }\n",
       "\n",
       "    .dataframe tbody tr th {\n",
       "        vertical-align: top;\n",
       "    }\n",
       "\n",
       "    .dataframe thead th {\n",
       "        text-align: right;\n",
       "    }\n",
       "</style>\n",
       "<table border=\"1\" class=\"dataframe\">\n",
       "  <thead>\n",
       "    <tr style=\"text-align: right;\">\n",
       "      <th></th>\n",
       "      <th>Longitude</th>\n",
       "      <th>pc1</th>\n",
       "      <th>pc2</th>\n",
       "    </tr>\n",
       "  </thead>\n",
       "  <tbody>\n",
       "    <tr>\n",
       "      <th>0</th>\n",
       "      <td>42.997837</td>\n",
       "      <td>-1.799103</td>\n",
       "      <td>0.122675</td>\n",
       "    </tr>\n",
       "    <tr>\n",
       "      <th>1</th>\n",
       "      <td>42.997837</td>\n",
       "      <td>-1.512599</td>\n",
       "      <td>-1.289295</td>\n",
       "    </tr>\n",
       "    <tr>\n",
       "      <th>2</th>\n",
       "      <td>42.997837</td>\n",
       "      <td>-1.665692</td>\n",
       "      <td>-0.645648</td>\n",
       "    </tr>\n",
       "    <tr>\n",
       "      <th>3</th>\n",
       "      <td>42.997837</td>\n",
       "      <td>-1.799103</td>\n",
       "      <td>0.122675</td>\n",
       "    </tr>\n",
       "    <tr>\n",
       "      <th>4</th>\n",
       "      <td>42.997837</td>\n",
       "      <td>-1.971879</td>\n",
       "      <td>0.641645</td>\n",
       "    </tr>\n",
       "    <tr>\n",
       "      <th>...</th>\n",
       "      <td>...</td>\n",
       "      <td>...</td>\n",
       "      <td>...</td>\n",
       "    </tr>\n",
       "    <tr>\n",
       "      <th>7821</th>\n",
       "      <td>43.004144</td>\n",
       "      <td>-1.612041</td>\n",
       "      <td>-0.301039</td>\n",
       "    </tr>\n",
       "    <tr>\n",
       "      <th>7822</th>\n",
       "      <td>43.004144</td>\n",
       "      <td>-1.898545</td>\n",
       "      <td>1.110930</td>\n",
       "    </tr>\n",
       "    <tr>\n",
       "      <th>7823</th>\n",
       "      <td>43.004144</td>\n",
       "      <td>-1.765135</td>\n",
       "      <td>0.342607</td>\n",
       "    </tr>\n",
       "    <tr>\n",
       "      <th>7824</th>\n",
       "      <td>43.004144</td>\n",
       "      <td>-1.612041</td>\n",
       "      <td>-0.301039</td>\n",
       "    </tr>\n",
       "    <tr>\n",
       "      <th>7825</th>\n",
       "      <td>43.004144</td>\n",
       "      <td>-1.898545</td>\n",
       "      <td>1.110930</td>\n",
       "    </tr>\n",
       "  </tbody>\n",
       "</table>\n",
       "<p>7826 rows × 3 columns</p>\n",
       "</div>"
      ],
      "text/plain": [
       "      Longitude       pc1       pc2\n",
       "0     42.997837 -1.799103  0.122675\n",
       "1     42.997837 -1.512599 -1.289295\n",
       "2     42.997837 -1.665692 -0.645648\n",
       "3     42.997837 -1.799103  0.122675\n",
       "4     42.997837 -1.971879  0.641645\n",
       "...         ...       ...       ...\n",
       "7821  43.004144 -1.612041 -0.301039\n",
       "7822  43.004144 -1.898545  1.110930\n",
       "7823  43.004144 -1.765135  0.342607\n",
       "7824  43.004144 -1.612041 -0.301039\n",
       "7825  43.004144 -1.898545  1.110930\n",
       "\n",
       "[7826 rows x 3 columns]"
      ]
     },
     "execution_count": 11,
     "metadata": {},
     "output_type": "execute_result"
    }
   ],
   "source": [
    "# put your code here to produce a pandas dataframe with columns Longitude, pc1, and pc2\n",
    "# YOUR CODE HERE\n",
    "\n",
    "syracuse_2d = pca_2d.transform(syracuse_streets).select(['Longitude','pc']).toPandas()\n",
    "\n",
    "syracuse_2d['pc1'] = syracuse_2d.pc.apply(lambda x: x[0])\n",
    "syracuse_2d['pc2'] = syracuse_2d.pc.apply(lambda x: x[1])\n",
    "\n",
    "syracuse_2d = syracuse_2d.drop(columns = ['pc'])\n",
    "\n",
    "syracuse_2d"
   ]
  },
  {
   "cell_type": "code",
   "execution_count": 12,
   "metadata": {
    "deletable": false,
    "editable": false,
    "nbgrader": {
     "cell_type": "code",
     "checksum": "f0719e02c92f1036f5f0635d38464c31",
     "grade": true,
     "grade_id": "cell-a05eaed0a167f628",
     "locked": true,
     "points": 10,
     "schema_version": 3,
     "solution": false,
     "task": false
    }
   },
   "outputs": [],
   "source": [
    "# 10 pts\n",
    "assert set(syracuse_2d.columns) == {'Longitude', 'pc1', 'pc2'}\n",
    "assert syracuse_2d.shape[0] == syracuse_streets.count()"
   ]
  },
  {
   "cell_type": "markdown",
   "metadata": {
    "deletable": false,
    "editable": false,
    "nbgrader": {
     "cell_type": "markdown",
     "checksum": "d8410c19ca85b234132c18e172ca4a5d",
     "grade": false,
     "grade_id": "cell-842879feaf88eadb",
     "locked": true,
     "schema_version": 3,
     "solution": false,
     "task": false
    }
   },
   "source": [
    "The code below will plot the dataframe and color points by Longitude:"
   ]
  },
  {
   "cell_type": "code",
   "execution_count": 13,
   "metadata": {
    "deletable": false,
    "editable": false,
    "nbgrader": {
     "cell_type": "code",
     "checksum": "7227e5f1d982c443324d08118e2a9bc7",
     "grade": false,
     "grade_id": "cell-58b14861b3f560df",
     "locked": true,
     "schema_version": 3,
     "solution": false,
     "task": false
    }
   },
   "outputs": [
    {
     "data": {
      "text/plain": [
       "<AxesSubplot:xlabel='pc1', ylabel='pc2'>"
      ]
     },
     "execution_count": 13,
     "metadata": {},
     "output_type": "execute_result"
    },
    {
     "data": {
      "image/png": "[encoded data removed]",
      "text/plain": [
       "<Figure size 432x288 with 1 Axes>"
      ]
     },
     "metadata": {},
     "output_type": "display_data"
    }
   ],
   "source": [
    "import seaborn as sns\n",
    "sns.set(style=\"darkgrid\")\n",
    "sns.scatterplot(data=syracuse_2d, x='pc1', y='pc2', hue=syracuse_2d.Longitude.tolist())"
   ]
  },
  {
   "cell_type": "markdown",
   "metadata": {
    "deletable": false,
    "editable": false,
    "nbgrader": {
     "cell_type": "markdown",
     "checksum": "489381ec4becb2a50e1d295fd288916e",
     "grade": false,
     "grade_id": "cell-bbb8807c30e3ac48",
     "locked": true,
     "schema_version": 3,
     "solution": false,
     "task": false
    }
   },
   "source": [
    "**(10 pts)**: Given the plot above, do you think the *loading* on Longitude is bigger in principal component 1 or principal component 2? Elaborate."
   ]
  },
  {
   "cell_type": "markdown",
   "metadata": {
    "deletable": false,
    "nbgrader": {
     "cell_type": "markdown",
     "checksum": "2f9483f0264dead205f79a1759b95013",
     "grade": true,
     "grade_id": "cell-8213b57422a803bb",
     "locked": false,
     "points": 10,
     "schema_version": 3,
     "solution": true,
     "task": false
    }
   },
   "source": [
    "The loading on longitude for principal component 1 is bigger than principal component 2. The loadings on Longitude for pc1 are positively correlated, with pc1 showing lower Longitudes as it's loading decreases and higher Longitudes as loading increases."
   ]
  },
  {
   "cell_type": "markdown",
   "metadata": {
    "deletable": false,
    "editable": false,
    "nbgrader": {
     "cell_type": "markdown",
     "checksum": "371c3a7e74c4811a84b16f8bae671091",
     "grade": false,
     "grade_id": "cell-7e0826cd125a9da4",
     "locked": true,
     "schema_version": 3,
     "solution": false,
     "task": false
    }
   },
   "source": [
    "## Question 2: (10 pts) More PCA\n",
    "\n",
    "In the previous section, we only limited our analysis to two principal components. However, it is unclear whether two dimensions capture enough of the data."
   ]
  },
  {
   "cell_type": "markdown",
   "metadata": {
    "deletable": false,
    "editable": false,
    "nbgrader": {
     "cell_type": "markdown",
     "checksum": "10b2b2675b591a5b6fa5d6c648df81e4",
     "grade": false,
     "grade_id": "cell-77765afe51829c08",
     "locked": true,
     "schema_version": 3,
     "solution": false,
     "task": false
    }
   },
   "source": [
    "In the following question, fit a new PCA analysis model, similar to that of Question 1, where you include all principal components (seven principal components because length of `feature_list` is 7). Call this PCA pipeline `pca_all`. You can reuse some of the components of the pipeline above"
   ]
  },
  {
   "cell_type": "code",
   "execution_count": 14,
   "metadata": {
    "deletable": false,
    "nbgrader": {
     "cell_type": "code",
     "checksum": "7804cda5e96f62404a25c6afdbe52195",
     "grade": false,
     "grade_id": "cell-a5ef2ce780808a58",
     "locked": false,
     "schema_version": 3,
     "solution": true,
     "task": false
    }
   },
   "outputs": [],
   "source": [
    "# create pipeline to produce principal components of data\n",
    "# YOUR CODE HERE\n",
    "\n",
    "pca_all = Pipeline(stages = [\n",
    "    feature.VectorAssembler(inputCols=feature_list,\n",
    "                           outputCol='features'),\n",
    "    feature.StandardScaler(withMean=True,\n",
    "                          inputCol='features',\n",
    "                          outputCol='zfeatures'),\n",
    "    feature.PCA(k=7, inputCol='zfeatures',outputCol='pc')\n",
    "]).fit(syracuse_streets)\n",
    "\n"
   ]
  },
  {
   "cell_type": "markdown",
   "metadata": {
    "deletable": false,
    "editable": false,
    "nbgrader": {
     "cell_type": "markdown",
     "checksum": "43b3feb923a1825c9ecf3aafb150e4d9",
     "grade": false,
     "grade_id": "cell-44d20d0742c32df3",
     "locked": true,
     "schema_version": 3,
     "solution": false,
     "task": false
    }
   },
   "source": [
    "Test your pipeline below"
   ]
  },
  {
   "cell_type": "code",
   "execution_count": 15,
   "metadata": {},
   "outputs": [
    {
     "name": "stdout",
     "output_type": "stream",
     "text": [
      "+--------------------+\n",
      "|        to_array(pc)|\n",
      "+--------------------+\n",
      "|[-1.7991028, 0.12...|\n",
      "|[-1.512599, -1.28...|\n",
      "|[-1.6656924, -0.6...|\n",
      "|[-1.7991028, 0.12...|\n",
      "|[-1.9718795, 0.64...|\n",
      "+--------------------+\n",
      "only showing top 5 rows\n",
      "\n"
     ]
    }
   ],
   "source": [
    "pca_all.transform(syracuse_streets).select(to_array('pc')).show(5)"
   ]
  },
  {
   "cell_type": "code",
   "execution_count": 16,
   "metadata": {
    "deletable": false,
    "editable": false,
    "nbgrader": {
     "cell_type": "code",
     "checksum": "c2d6ab3c8ec614dcb72ec189559c06ad",
     "grade": true,
     "grade_id": "cell-e016aa9ad4e060c1",
     "locked": true,
     "points": 5,
     "schema_version": 3,
     "solution": false,
     "task": false
    }
   },
   "outputs": [],
   "source": [
    "# 10 pts\n",
    "assert type(pca_all) == pipeline.PipelineModel\n",
    "assert type(pca_all.stages[-1]) == feature.PCAModel"
   ]
  }
 ],
 "metadata": {
  "kernelspec": {
   "display_name": "Python 3",
   "language": "python",
   "name": "python3"
  },
  "language_info": {
   "codemirror_mode": {
    "name": "ipython",
    "version": 3
   },
   "file_extension": ".py",
   "mimetype": "text/x-python",
   "name": "python",
   "nbconvert_exporter": "python",
   "pygments_lexer": "ipython3",
   "version": "3.8.8"
  },
  "latex_envs": {
   "LaTeX_envs_menu_present": true,
   "autoclose": false,
   "autocomplete": true,
   "bibliofile": "biblio.bib",
   "cite_by": "apalike",
   "current_citInitial": 1,
   "eqLabelWithNumbers": true,
   "eqNumInitial": 1,
   "hotkeys": {
    "equation": "Ctrl-E",
    "itemize": "Ctrl-I"
   },
   "labels_anchors": false,
   "latex_user_defs": false,
   "report_style_numbering": false,
   "user_envs_cfg": false
  },
  "toc": {
   "base_numbering": 1,
   "nav_menu": {},
   "number_sections": true,
   "sideBar": true,
   "skip_h1_title": false,
   "title_cell": "Table of Contents",
   "title_sidebar": "Contents",
   "toc_cell": false,
   "toc_position": {},
   "toc_section_display": true,
   "toc_window_display": false
  }
 },
 "nbformat": 4,
 "nbformat_minor": 4
}
